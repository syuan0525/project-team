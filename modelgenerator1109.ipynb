{
  "nbformat": 4,
  "nbformat_minor": 0,
  "metadata": {
    "colab": {
      "name": "Untitled3.ipynb",
      "provenance": [],
      "authorship_tag": "ABX9TyP/zuh+ZBh8hZvY0N+uNCCO",
      "include_colab_link": true
    },
    "kernelspec": {
      "name": "python3",
      "display_name": "Python 3"
    },
    "language_info": {
      "name": "python"
    },
    "accelerator": "GPU"
  },
  "cells": [
    {
      "cell_type": "markdown",
      "metadata": {
        "id": "view-in-github",
        "colab_type": "text"
      },
      "source": [
        "<a href=\"https://colab.research.google.com/github/syuan0525/project-team/blob/main/modelgenerator1109.ipynb\" target=\"_parent\"><img src=\"https://colab.research.google.com/assets/colab-badge.svg\" alt=\"Open In Colab\"/></a>"
      ]
    },
    {
      "cell_type": "code",
      "metadata": {
        "colab": {
          "base_uri": "https://localhost:8080/"
        },
        "id": "gROVxA3t0xXA",
        "outputId": "c4516276-48e0-410e-f8da-ad59cb460756"
      },
      "source": [
        "from google.colab import drive\n",
        "drive.mount('/content/drive')"
      ],
      "execution_count": 1,
      "outputs": [
        {
          "output_type": "stream",
          "name": "stdout",
          "text": [
            "Mounted at /content/drive\n"
          ]
        }
      ]
    },
    {
      "cell_type": "code",
      "metadata": {
        "colab": {
          "base_uri": "https://localhost:8080/"
        },
        "id": "Xa_RunM_AMIc",
        "outputId": "a25385b1-5451-4336-ca6b-40ba0804aa9a"
      },
      "source": [
        "from tensorflow.keras.applications.mobilenet import MobileNet\n",
        "mobilenet = MobileNet(\n",
        "    input_shape=(224, 224, 3), include_top=False, weights='imagenet'\n",
        ")\n",
        "mobilenet.summary()"
      ],
      "execution_count": 2,
      "outputs": [
        {
          "output_type": "stream",
          "name": "stdout",
          "text": [
            "Downloading data from https://storage.googleapis.com/tensorflow/keras-applications/mobilenet/mobilenet_1_0_224_tf_no_top.h5\n",
            "17227776/17225924 [==============================] - 0s 0us/step\n",
            "17235968/17225924 [==============================] - 0s 0us/step\n",
            "Model: \"mobilenet_1.00_224\"\n",
            "_________________________________________________________________\n",
            "Layer (type)                 Output Shape              Param #   \n",
            "=================================================================\n",
            "input_1 (InputLayer)         [(None, 224, 224, 3)]     0         \n",
            "_________________________________________________________________\n",
            "conv1 (Conv2D)               (None, 112, 112, 32)      864       \n",
            "_________________________________________________________________\n",
            "conv1_bn (BatchNormalization (None, 112, 112, 32)      128       \n",
            "_________________________________________________________________\n",
            "conv1_relu (ReLU)            (None, 112, 112, 32)      0         \n",
            "_________________________________________________________________\n",
            "conv_dw_1 (DepthwiseConv2D)  (None, 112, 112, 32)      288       \n",
            "_________________________________________________________________\n",
            "conv_dw_1_bn (BatchNormaliza (None, 112, 112, 32)      128       \n",
            "_________________________________________________________________\n",
            "conv_dw_1_relu (ReLU)        (None, 112, 112, 32)      0         \n",
            "_________________________________________________________________\n",
            "conv_pw_1 (Conv2D)           (None, 112, 112, 64)      2048      \n",
            "_________________________________________________________________\n",
            "conv_pw_1_bn (BatchNormaliza (None, 112, 112, 64)      256       \n",
            "_________________________________________________________________\n",
            "conv_pw_1_relu (ReLU)        (None, 112, 112, 64)      0         \n",
            "_________________________________________________________________\n",
            "conv_pad_2 (ZeroPadding2D)   (None, 113, 113, 64)      0         \n",
            "_________________________________________________________________\n",
            "conv_dw_2 (DepthwiseConv2D)  (None, 56, 56, 64)        576       \n",
            "_________________________________________________________________\n",
            "conv_dw_2_bn (BatchNormaliza (None, 56, 56, 64)        256       \n",
            "_________________________________________________________________\n",
            "conv_dw_2_relu (ReLU)        (None, 56, 56, 64)        0         \n",
            "_________________________________________________________________\n",
            "conv_pw_2 (Conv2D)           (None, 56, 56, 128)       8192      \n",
            "_________________________________________________________________\n",
            "conv_pw_2_bn (BatchNormaliza (None, 56, 56, 128)       512       \n",
            "_________________________________________________________________\n",
            "conv_pw_2_relu (ReLU)        (None, 56, 56, 128)       0         \n",
            "_________________________________________________________________\n",
            "conv_dw_3 (DepthwiseConv2D)  (None, 56, 56, 128)       1152      \n",
            "_________________________________________________________________\n",
            "conv_dw_3_bn (BatchNormaliza (None, 56, 56, 128)       512       \n",
            "_________________________________________________________________\n",
            "conv_dw_3_relu (ReLU)        (None, 56, 56, 128)       0         \n",
            "_________________________________________________________________\n",
            "conv_pw_3 (Conv2D)           (None, 56, 56, 128)       16384     \n",
            "_________________________________________________________________\n",
            "conv_pw_3_bn (BatchNormaliza (None, 56, 56, 128)       512       \n",
            "_________________________________________________________________\n",
            "conv_pw_3_relu (ReLU)        (None, 56, 56, 128)       0         \n",
            "_________________________________________________________________\n",
            "conv_pad_4 (ZeroPadding2D)   (None, 57, 57, 128)       0         \n",
            "_________________________________________________________________\n",
            "conv_dw_4 (DepthwiseConv2D)  (None, 28, 28, 128)       1152      \n",
            "_________________________________________________________________\n",
            "conv_dw_4_bn (BatchNormaliza (None, 28, 28, 128)       512       \n",
            "_________________________________________________________________\n",
            "conv_dw_4_relu (ReLU)        (None, 28, 28, 128)       0         \n",
            "_________________________________________________________________\n",
            "conv_pw_4 (Conv2D)           (None, 28, 28, 256)       32768     \n",
            "_________________________________________________________________\n",
            "conv_pw_4_bn (BatchNormaliza (None, 28, 28, 256)       1024      \n",
            "_________________________________________________________________\n",
            "conv_pw_4_relu (ReLU)        (None, 28, 28, 256)       0         \n",
            "_________________________________________________________________\n",
            "conv_dw_5 (DepthwiseConv2D)  (None, 28, 28, 256)       2304      \n",
            "_________________________________________________________________\n",
            "conv_dw_5_bn (BatchNormaliza (None, 28, 28, 256)       1024      \n",
            "_________________________________________________________________\n",
            "conv_dw_5_relu (ReLU)        (None, 28, 28, 256)       0         \n",
            "_________________________________________________________________\n",
            "conv_pw_5 (Conv2D)           (None, 28, 28, 256)       65536     \n",
            "_________________________________________________________________\n",
            "conv_pw_5_bn (BatchNormaliza (None, 28, 28, 256)       1024      \n",
            "_________________________________________________________________\n",
            "conv_pw_5_relu (ReLU)        (None, 28, 28, 256)       0         \n",
            "_________________________________________________________________\n",
            "conv_pad_6 (ZeroPadding2D)   (None, 29, 29, 256)       0         \n",
            "_________________________________________________________________\n",
            "conv_dw_6 (DepthwiseConv2D)  (None, 14, 14, 256)       2304      \n",
            "_________________________________________________________________\n",
            "conv_dw_6_bn (BatchNormaliza (None, 14, 14, 256)       1024      \n",
            "_________________________________________________________________\n",
            "conv_dw_6_relu (ReLU)        (None, 14, 14, 256)       0         \n",
            "_________________________________________________________________\n",
            "conv_pw_6 (Conv2D)           (None, 14, 14, 512)       131072    \n",
            "_________________________________________________________________\n",
            "conv_pw_6_bn (BatchNormaliza (None, 14, 14, 512)       2048      \n",
            "_________________________________________________________________\n",
            "conv_pw_6_relu (ReLU)        (None, 14, 14, 512)       0         \n",
            "_________________________________________________________________\n",
            "conv_dw_7 (DepthwiseConv2D)  (None, 14, 14, 512)       4608      \n",
            "_________________________________________________________________\n",
            "conv_dw_7_bn (BatchNormaliza (None, 14, 14, 512)       2048      \n",
            "_________________________________________________________________\n",
            "conv_dw_7_relu (ReLU)        (None, 14, 14, 512)       0         \n",
            "_________________________________________________________________\n",
            "conv_pw_7 (Conv2D)           (None, 14, 14, 512)       262144    \n",
            "_________________________________________________________________\n",
            "conv_pw_7_bn (BatchNormaliza (None, 14, 14, 512)       2048      \n",
            "_________________________________________________________________\n",
            "conv_pw_7_relu (ReLU)        (None, 14, 14, 512)       0         \n",
            "_________________________________________________________________\n",
            "conv_dw_8 (DepthwiseConv2D)  (None, 14, 14, 512)       4608      \n",
            "_________________________________________________________________\n",
            "conv_dw_8_bn (BatchNormaliza (None, 14, 14, 512)       2048      \n",
            "_________________________________________________________________\n",
            "conv_dw_8_relu (ReLU)        (None, 14, 14, 512)       0         \n",
            "_________________________________________________________________\n",
            "conv_pw_8 (Conv2D)           (None, 14, 14, 512)       262144    \n",
            "_________________________________________________________________\n",
            "conv_pw_8_bn (BatchNormaliza (None, 14, 14, 512)       2048      \n",
            "_________________________________________________________________\n",
            "conv_pw_8_relu (ReLU)        (None, 14, 14, 512)       0         \n",
            "_________________________________________________________________\n",
            "conv_dw_9 (DepthwiseConv2D)  (None, 14, 14, 512)       4608      \n",
            "_________________________________________________________________\n",
            "conv_dw_9_bn (BatchNormaliza (None, 14, 14, 512)       2048      \n",
            "_________________________________________________________________\n",
            "conv_dw_9_relu (ReLU)        (None, 14, 14, 512)       0         \n",
            "_________________________________________________________________\n",
            "conv_pw_9 (Conv2D)           (None, 14, 14, 512)       262144    \n",
            "_________________________________________________________________\n",
            "conv_pw_9_bn (BatchNormaliza (None, 14, 14, 512)       2048      \n",
            "_________________________________________________________________\n",
            "conv_pw_9_relu (ReLU)        (None, 14, 14, 512)       0         \n",
            "_________________________________________________________________\n",
            "conv_dw_10 (DepthwiseConv2D) (None, 14, 14, 512)       4608      \n",
            "_________________________________________________________________\n",
            "conv_dw_10_bn (BatchNormaliz (None, 14, 14, 512)       2048      \n",
            "_________________________________________________________________\n",
            "conv_dw_10_relu (ReLU)       (None, 14, 14, 512)       0         \n",
            "_________________________________________________________________\n",
            "conv_pw_10 (Conv2D)          (None, 14, 14, 512)       262144    \n",
            "_________________________________________________________________\n",
            "conv_pw_10_bn (BatchNormaliz (None, 14, 14, 512)       2048      \n",
            "_________________________________________________________________\n",
            "conv_pw_10_relu (ReLU)       (None, 14, 14, 512)       0         \n",
            "_________________________________________________________________\n",
            "conv_dw_11 (DepthwiseConv2D) (None, 14, 14, 512)       4608      \n",
            "_________________________________________________________________\n",
            "conv_dw_11_bn (BatchNormaliz (None, 14, 14, 512)       2048      \n",
            "_________________________________________________________________\n",
            "conv_dw_11_relu (ReLU)       (None, 14, 14, 512)       0         \n",
            "_________________________________________________________________\n",
            "conv_pw_11 (Conv2D)          (None, 14, 14, 512)       262144    \n",
            "_________________________________________________________________\n",
            "conv_pw_11_bn (BatchNormaliz (None, 14, 14, 512)       2048      \n",
            "_________________________________________________________________\n",
            "conv_pw_11_relu (ReLU)       (None, 14, 14, 512)       0         \n",
            "_________________________________________________________________\n",
            "conv_pad_12 (ZeroPadding2D)  (None, 15, 15, 512)       0         \n",
            "_________________________________________________________________\n",
            "conv_dw_12 (DepthwiseConv2D) (None, 7, 7, 512)         4608      \n",
            "_________________________________________________________________\n",
            "conv_dw_12_bn (BatchNormaliz (None, 7, 7, 512)         2048      \n",
            "_________________________________________________________________\n",
            "conv_dw_12_relu (ReLU)       (None, 7, 7, 512)         0         \n",
            "_________________________________________________________________\n",
            "conv_pw_12 (Conv2D)          (None, 7, 7, 1024)        524288    \n",
            "_________________________________________________________________\n",
            "conv_pw_12_bn (BatchNormaliz (None, 7, 7, 1024)        4096      \n",
            "_________________________________________________________________\n",
            "conv_pw_12_relu (ReLU)       (None, 7, 7, 1024)        0         \n",
            "_________________________________________________________________\n",
            "conv_dw_13 (DepthwiseConv2D) (None, 7, 7, 1024)        9216      \n",
            "_________________________________________________________________\n",
            "conv_dw_13_bn (BatchNormaliz (None, 7, 7, 1024)        4096      \n",
            "_________________________________________________________________\n",
            "conv_dw_13_relu (ReLU)       (None, 7, 7, 1024)        0         \n",
            "_________________________________________________________________\n",
            "conv_pw_13 (Conv2D)          (None, 7, 7, 1024)        1048576   \n",
            "_________________________________________________________________\n",
            "conv_pw_13_bn (BatchNormaliz (None, 7, 7, 1024)        4096      \n",
            "_________________________________________________________________\n",
            "conv_pw_13_relu (ReLU)       (None, 7, 7, 1024)        0         \n",
            "=================================================================\n",
            "Total params: 3,228,864\n",
            "Trainable params: 3,206,976\n",
            "Non-trainable params: 21,888\n",
            "_________________________________________________________________\n"
          ]
        }
      ]
    },
    {
      "cell_type": "code",
      "metadata": {
        "colab": {
          "base_uri": "https://localhost:8080/"
        },
        "id": "vXgwDsKcAS2H",
        "outputId": "2ca1f4d1-f8bd-410f-e5de-41a325904681"
      },
      "source": [
        "from tensorflow.keras.models import Sequential\n",
        "from tensorflow.keras.layers import GlobalAveragePooling2D, Dense, BatchNormalization, Dropout\n",
        "mobilenet.layers"
      ],
      "execution_count": 3,
      "outputs": [
        {
          "output_type": "execute_result",
          "data": {
            "text/plain": [
              "[<keras.engine.input_layer.InputLayer at 0x7f2b0da7c410>,\n",
              " <keras.layers.convolutional.Conv2D at 0x7f2ab7f4f550>,\n",
              " <keras.layers.normalization.batch_normalization.BatchNormalization at 0x7f2ab7f4f690>,\n",
              " <keras.layers.advanced_activations.ReLU at 0x7f2ab76f5210>,\n",
              " <keras.layers.convolutional.DepthwiseConv2D at 0x7f2ab061a1d0>,\n",
              " <keras.layers.normalization.batch_normalization.BatchNormalization at 0x7f2ab062f5d0>,\n",
              " <keras.layers.advanced_activations.ReLU at 0x7f2ab061ed90>,\n",
              " <keras.layers.convolutional.Conv2D at 0x7f2ab061dd90>,\n",
              " <keras.layers.normalization.batch_normalization.BatchNormalization at 0x7f2ab05c21d0>,\n",
              " <keras.layers.advanced_activations.ReLU at 0x7f2ab05c6210>,\n",
              " <keras.layers.convolutional.ZeroPadding2D at 0x7f2ab05bda90>,\n",
              " <keras.layers.convolutional.DepthwiseConv2D at 0x7f2ab061d690>,\n",
              " <keras.layers.normalization.batch_normalization.BatchNormalization at 0x7f2ab76f5ed0>,\n",
              " <keras.layers.advanced_activations.ReLU at 0x7f2ab05cdd90>,\n",
              " <keras.layers.convolutional.Conv2D at 0x7f2ab061ab10>,\n",
              " <keras.layers.normalization.batch_normalization.BatchNormalization at 0x7f2ab05d6d50>,\n",
              " <keras.layers.advanced_activations.ReLU at 0x7f2ab05deb10>,\n",
              " <keras.layers.convolutional.DepthwiseConv2D at 0x7f2ab05d6c50>,\n",
              " <keras.layers.normalization.batch_normalization.BatchNormalization at 0x7f2ab05e9a90>,\n",
              " <keras.layers.advanced_activations.ReLU at 0x7f2ab05f1590>,\n",
              " <keras.layers.convolutional.Conv2D at 0x7f2ab05ed5d0>,\n",
              " <keras.layers.normalization.batch_normalization.BatchNormalization at 0x7f2ab057e5d0>,\n",
              " <keras.layers.advanced_activations.ReLU at 0x7f2ab05840d0>,\n",
              " <keras.layers.convolutional.ZeroPadding2D at 0x7f2ab057f4d0>,\n",
              " <keras.layers.convolutional.DepthwiseConv2D at 0x7f2ab05eddd0>,\n",
              " <keras.layers.normalization.batch_normalization.BatchNormalization at 0x7f2ab05933d0>,\n",
              " <keras.layers.advanced_activations.ReLU at 0x7f2ab059d7d0>,\n",
              " <keras.layers.convolutional.Conv2D at 0x7f2ab0598350>,\n",
              " <keras.layers.normalization.batch_normalization.BatchNormalization at 0x7f2ab05a65d0>,\n",
              " <keras.layers.advanced_activations.ReLU at 0x7f2ab05ad310>,\n",
              " <keras.layers.convolutional.DepthwiseConv2D at 0x7f2ab05a8ed0>,\n",
              " <keras.layers.normalization.batch_normalization.BatchNormalization at 0x7f2ab0537350>,\n",
              " <keras.layers.advanced_activations.ReLU at 0x7f2ab05425d0>,\n",
              " <keras.layers.convolutional.Conv2D at 0x7f2ab0548250>,\n",
              " <keras.layers.normalization.batch_normalization.BatchNormalization at 0x7f2ab05b1210>,\n",
              " <keras.layers.advanced_activations.ReLU at 0x7f2ab054f5d0>,\n",
              " <keras.layers.convolutional.ZeroPadding2D at 0x7f2ab0556310>,\n",
              " <keras.layers.convolutional.DepthwiseConv2D at 0x7f2ab054fa10>,\n",
              " <keras.layers.normalization.batch_normalization.BatchNormalization at 0x7f2ab0539e90>,\n",
              " <keras.layers.advanced_activations.ReLU at 0x7f2ab0562a10>,\n",
              " <keras.layers.convolutional.Conv2D at 0x7f2ab0566710>,\n",
              " <keras.layers.normalization.batch_normalization.BatchNormalization at 0x7f2ab054b590>,\n",
              " <keras.layers.advanced_activations.ReLU at 0x7f2ab05734d0>,\n",
              " <keras.layers.convolutional.DepthwiseConv2D at 0x7f2ab056c8d0>,\n",
              " <keras.layers.normalization.batch_normalization.BatchNormalization at 0x7f2ab0562550>,\n",
              " <keras.layers.advanced_activations.ReLU at 0x7f2ab05025d0>,\n",
              " <keras.layers.convolutional.Conv2D at 0x7f2ab0506990>,\n",
              " <keras.layers.normalization.batch_normalization.BatchNormalization at 0x7f2ab0506c10>,\n",
              " <keras.layers.advanced_activations.ReLU at 0x7f2ab055f150>,\n",
              " <keras.layers.convolutional.DepthwiseConv2D at 0x7f2ab050f290>,\n",
              " <keras.layers.normalization.batch_normalization.BatchNormalization at 0x7f2ab051f6d0>,\n",
              " <keras.layers.advanced_activations.ReLU at 0x7f2ab04feb10>,\n",
              " <keras.layers.convolutional.Conv2D at 0x7f2ab050ab50>,\n",
              " <keras.layers.normalization.batch_normalization.BatchNormalization at 0x7f2ab0556b10>,\n",
              " <keras.layers.advanced_activations.ReLU at 0x7f2ab0537c50>,\n",
              " <keras.layers.convolutional.DepthwiseConv2D at 0x7f2ab055f0d0>,\n",
              " <keras.layers.normalization.batch_normalization.BatchNormalization at 0x7f2ab06097d0>,\n",
              " <keras.layers.advanced_activations.ReLU at 0x7f2ab0584b10>,\n",
              " <keras.layers.convolutional.Conv2D at 0x7f2ab0588910>,\n",
              " <keras.layers.normalization.batch_normalization.BatchNormalization at 0x7f2ab0575910>,\n",
              " <keras.layers.advanced_activations.ReLU at 0x7f2ab05d6cd0>,\n",
              " <keras.layers.convolutional.DepthwiseConv2D at 0x7f2ab05d8650>,\n",
              " <keras.layers.normalization.batch_normalization.BatchNormalization at 0x7f2ab0525dd0>,\n",
              " <keras.layers.advanced_activations.ReLU at 0x7f2ab0528a50>,\n",
              " <keras.layers.convolutional.Conv2D at 0x7f2ab052a590>,\n",
              " <keras.layers.normalization.batch_normalization.BatchNormalization at 0x7f2ab05cda50>,\n",
              " <keras.layers.advanced_activations.ReLU at 0x7f2ab05339d0>,\n",
              " <keras.layers.convolutional.DepthwiseConv2D at 0x7f2ab04bac90>,\n",
              " <keras.layers.normalization.batch_normalization.BatchNormalization at 0x7f2ab052a9d0>,\n",
              " <keras.layers.advanced_activations.ReLU at 0x7f2ab04c2710>,\n",
              " <keras.layers.convolutional.Conv2D at 0x7f2ab04c6990>,\n",
              " <keras.layers.normalization.batch_normalization.BatchNormalization at 0x7f2ab04cb690>,\n",
              " <keras.layers.advanced_activations.ReLU at 0x7f2ab04c2210>,\n",
              " <keras.layers.convolutional.ZeroPadding2D at 0x7f2ab04d0190>,\n",
              " <keras.layers.convolutional.DepthwiseConv2D at 0x7f2ab04d9c90>,\n",
              " <keras.layers.normalization.batch_normalization.BatchNormalization at 0x7f2ab04dfed0>,\n",
              " <keras.layers.advanced_activations.ReLU at 0x7f2ab04d8a90>,\n",
              " <keras.layers.convolutional.Conv2D at 0x7f2ab04e4a50>,\n",
              " <keras.layers.normalization.batch_normalization.BatchNormalization at 0x7f2ab04ece50>,\n",
              " <keras.layers.advanced_activations.ReLU at 0x7f2ab04e69d0>,\n",
              " <keras.layers.convolutional.DepthwiseConv2D at 0x7f2ab04f2b90>,\n",
              " <keras.layers.normalization.batch_normalization.BatchNormalization at 0x7f2ab0482110>,\n",
              " <keras.layers.advanced_activations.ReLU at 0x7f2ab0482dd0>,\n",
              " <keras.layers.convolutional.Conv2D at 0x7f2ab0477c10>,\n",
              " <keras.layers.normalization.batch_normalization.BatchNormalization at 0x7f2ab048e7d0>,\n",
              " <keras.layers.advanced_activations.ReLU at 0x7f2ab0491f50>]"
            ]
          },
          "metadata": {},
          "execution_count": 3
        }
      ]
    },
    {
      "cell_type": "code",
      "metadata": {
        "colab": {
          "base_uri": "https://localhost:8080/"
        },
        "id": "1GFeCuM_AYkh",
        "outputId": "d4691b75-638a-4e2a-c0bf-25af823459e9"
      },
      "source": [
        "for l in mobilenet.layers:\n",
        "  l.trainable = False  # cnn 已經是訓練好的了，所以先凍住cnn的參數 ，只訓練後面的mlp的參數 # 要在 compile 前設\n",
        "\n",
        "layers = [\n",
        "          BatchNormalization(),\n",
        "          GlobalAveragePooling2D(),\n",
        "          Dropout(0.25),\n",
        "          # Dense(256, activation=\"relu\"),\n",
        "          Dense(11, activation=\"softmax\")\n",
        "]\n",
        "model = Sequential(mobilenet.layers + layers) \n",
        "model.summary()"
      ],
      "execution_count": 4,
      "outputs": [
        {
          "output_type": "stream",
          "name": "stdout",
          "text": [
            "Model: \"sequential\"\n",
            "_________________________________________________________________\n",
            "Layer (type)                 Output Shape              Param #   \n",
            "=================================================================\n",
            "conv1 (Conv2D)               (None, 112, 112, 32)      864       \n",
            "_________________________________________________________________\n",
            "conv1_bn (BatchNormalization (None, 112, 112, 32)      128       \n",
            "_________________________________________________________________\n",
            "conv1_relu (ReLU)            (None, 112, 112, 32)      0         \n",
            "_________________________________________________________________\n",
            "conv_dw_1 (DepthwiseConv2D)  (None, 112, 112, 32)      288       \n",
            "_________________________________________________________________\n",
            "conv_dw_1_bn (BatchNormaliza (None, 112, 112, 32)      128       \n",
            "_________________________________________________________________\n",
            "conv_dw_1_relu (ReLU)        (None, 112, 112, 32)      0         \n",
            "_________________________________________________________________\n",
            "conv_pw_1 (Conv2D)           (None, 112, 112, 64)      2048      \n",
            "_________________________________________________________________\n",
            "conv_pw_1_bn (BatchNormaliza (None, 112, 112, 64)      256       \n",
            "_________________________________________________________________\n",
            "conv_pw_1_relu (ReLU)        (None, 112, 112, 64)      0         \n",
            "_________________________________________________________________\n",
            "conv_pad_2 (ZeroPadding2D)   (None, 113, 113, 64)      0         \n",
            "_________________________________________________________________\n",
            "conv_dw_2 (DepthwiseConv2D)  (None, 56, 56, 64)        576       \n",
            "_________________________________________________________________\n",
            "conv_dw_2_bn (BatchNormaliza (None, 56, 56, 64)        256       \n",
            "_________________________________________________________________\n",
            "conv_dw_2_relu (ReLU)        (None, 56, 56, 64)        0         \n",
            "_________________________________________________________________\n",
            "conv_pw_2 (Conv2D)           (None, 56, 56, 128)       8192      \n",
            "_________________________________________________________________\n",
            "conv_pw_2_bn (BatchNormaliza (None, 56, 56, 128)       512       \n",
            "_________________________________________________________________\n",
            "conv_pw_2_relu (ReLU)        (None, 56, 56, 128)       0         \n",
            "_________________________________________________________________\n",
            "conv_dw_3 (DepthwiseConv2D)  (None, 56, 56, 128)       1152      \n",
            "_________________________________________________________________\n",
            "conv_dw_3_bn (BatchNormaliza (None, 56, 56, 128)       512       \n",
            "_________________________________________________________________\n",
            "conv_dw_3_relu (ReLU)        (None, 56, 56, 128)       0         \n",
            "_________________________________________________________________\n",
            "conv_pw_3 (Conv2D)           (None, 56, 56, 128)       16384     \n",
            "_________________________________________________________________\n",
            "conv_pw_3_bn (BatchNormaliza (None, 56, 56, 128)       512       \n",
            "_________________________________________________________________\n",
            "conv_pw_3_relu (ReLU)        (None, 56, 56, 128)       0         \n",
            "_________________________________________________________________\n",
            "conv_pad_4 (ZeroPadding2D)   (None, 57, 57, 128)       0         \n",
            "_________________________________________________________________\n",
            "conv_dw_4 (DepthwiseConv2D)  (None, 28, 28, 128)       1152      \n",
            "_________________________________________________________________\n",
            "conv_dw_4_bn (BatchNormaliza (None, 28, 28, 128)       512       \n",
            "_________________________________________________________________\n",
            "conv_dw_4_relu (ReLU)        (None, 28, 28, 128)       0         \n",
            "_________________________________________________________________\n",
            "conv_pw_4 (Conv2D)           (None, 28, 28, 256)       32768     \n",
            "_________________________________________________________________\n",
            "conv_pw_4_bn (BatchNormaliza (None, 28, 28, 256)       1024      \n",
            "_________________________________________________________________\n",
            "conv_pw_4_relu (ReLU)        (None, 28, 28, 256)       0         \n",
            "_________________________________________________________________\n",
            "conv_dw_5 (DepthwiseConv2D)  (None, 28, 28, 256)       2304      \n",
            "_________________________________________________________________\n",
            "conv_dw_5_bn (BatchNormaliza (None, 28, 28, 256)       1024      \n",
            "_________________________________________________________________\n",
            "conv_dw_5_relu (ReLU)        (None, 28, 28, 256)       0         \n",
            "_________________________________________________________________\n",
            "conv_pw_5 (Conv2D)           (None, 28, 28, 256)       65536     \n",
            "_________________________________________________________________\n",
            "conv_pw_5_bn (BatchNormaliza (None, 28, 28, 256)       1024      \n",
            "_________________________________________________________________\n",
            "conv_pw_5_relu (ReLU)        (None, 28, 28, 256)       0         \n",
            "_________________________________________________________________\n",
            "conv_pad_6 (ZeroPadding2D)   (None, 29, 29, 256)       0         \n",
            "_________________________________________________________________\n",
            "conv_dw_6 (DepthwiseConv2D)  (None, 14, 14, 256)       2304      \n",
            "_________________________________________________________________\n",
            "conv_dw_6_bn (BatchNormaliza (None, 14, 14, 256)       1024      \n",
            "_________________________________________________________________\n",
            "conv_dw_6_relu (ReLU)        (None, 14, 14, 256)       0         \n",
            "_________________________________________________________________\n",
            "conv_pw_6 (Conv2D)           (None, 14, 14, 512)       131072    \n",
            "_________________________________________________________________\n",
            "conv_pw_6_bn (BatchNormaliza (None, 14, 14, 512)       2048      \n",
            "_________________________________________________________________\n",
            "conv_pw_6_relu (ReLU)        (None, 14, 14, 512)       0         \n",
            "_________________________________________________________________\n",
            "conv_dw_7 (DepthwiseConv2D)  (None, 14, 14, 512)       4608      \n",
            "_________________________________________________________________\n",
            "conv_dw_7_bn (BatchNormaliza (None, 14, 14, 512)       2048      \n",
            "_________________________________________________________________\n",
            "conv_dw_7_relu (ReLU)        (None, 14, 14, 512)       0         \n",
            "_________________________________________________________________\n",
            "conv_pw_7 (Conv2D)           (None, 14, 14, 512)       262144    \n",
            "_________________________________________________________________\n",
            "conv_pw_7_bn (BatchNormaliza (None, 14, 14, 512)       2048      \n",
            "_________________________________________________________________\n",
            "conv_pw_7_relu (ReLU)        (None, 14, 14, 512)       0         \n",
            "_________________________________________________________________\n",
            "conv_dw_8 (DepthwiseConv2D)  (None, 14, 14, 512)       4608      \n",
            "_________________________________________________________________\n",
            "conv_dw_8_bn (BatchNormaliza (None, 14, 14, 512)       2048      \n",
            "_________________________________________________________________\n",
            "conv_dw_8_relu (ReLU)        (None, 14, 14, 512)       0         \n",
            "_________________________________________________________________\n",
            "conv_pw_8 (Conv2D)           (None, 14, 14, 512)       262144    \n",
            "_________________________________________________________________\n",
            "conv_pw_8_bn (BatchNormaliza (None, 14, 14, 512)       2048      \n",
            "_________________________________________________________________\n",
            "conv_pw_8_relu (ReLU)        (None, 14, 14, 512)       0         \n",
            "_________________________________________________________________\n",
            "conv_dw_9 (DepthwiseConv2D)  (None, 14, 14, 512)       4608      \n",
            "_________________________________________________________________\n",
            "conv_dw_9_bn (BatchNormaliza (None, 14, 14, 512)       2048      \n",
            "_________________________________________________________________\n",
            "conv_dw_9_relu (ReLU)        (None, 14, 14, 512)       0         \n",
            "_________________________________________________________________\n",
            "conv_pw_9 (Conv2D)           (None, 14, 14, 512)       262144    \n",
            "_________________________________________________________________\n",
            "conv_pw_9_bn (BatchNormaliza (None, 14, 14, 512)       2048      \n",
            "_________________________________________________________________\n",
            "conv_pw_9_relu (ReLU)        (None, 14, 14, 512)       0         \n",
            "_________________________________________________________________\n",
            "conv_dw_10 (DepthwiseConv2D) (None, 14, 14, 512)       4608      \n",
            "_________________________________________________________________\n",
            "conv_dw_10_bn (BatchNormaliz (None, 14, 14, 512)       2048      \n",
            "_________________________________________________________________\n",
            "conv_dw_10_relu (ReLU)       (None, 14, 14, 512)       0         \n",
            "_________________________________________________________________\n",
            "conv_pw_10 (Conv2D)          (None, 14, 14, 512)       262144    \n",
            "_________________________________________________________________\n",
            "conv_pw_10_bn (BatchNormaliz (None, 14, 14, 512)       2048      \n",
            "_________________________________________________________________\n",
            "conv_pw_10_relu (ReLU)       (None, 14, 14, 512)       0         \n",
            "_________________________________________________________________\n",
            "conv_dw_11 (DepthwiseConv2D) (None, 14, 14, 512)       4608      \n",
            "_________________________________________________________________\n",
            "conv_dw_11_bn (BatchNormaliz (None, 14, 14, 512)       2048      \n",
            "_________________________________________________________________\n",
            "conv_dw_11_relu (ReLU)       (None, 14, 14, 512)       0         \n",
            "_________________________________________________________________\n",
            "conv_pw_11 (Conv2D)          (None, 14, 14, 512)       262144    \n",
            "_________________________________________________________________\n",
            "conv_pw_11_bn (BatchNormaliz (None, 14, 14, 512)       2048      \n",
            "_________________________________________________________________\n",
            "conv_pw_11_relu (ReLU)       (None, 14, 14, 512)       0         \n",
            "_________________________________________________________________\n",
            "conv_pad_12 (ZeroPadding2D)  (None, 15, 15, 512)       0         \n",
            "_________________________________________________________________\n",
            "conv_dw_12 (DepthwiseConv2D) (None, 7, 7, 512)         4608      \n",
            "_________________________________________________________________\n",
            "conv_dw_12_bn (BatchNormaliz (None, 7, 7, 512)         2048      \n",
            "_________________________________________________________________\n",
            "conv_dw_12_relu (ReLU)       (None, 7, 7, 512)         0         \n",
            "_________________________________________________________________\n",
            "conv_pw_12 (Conv2D)          (None, 7, 7, 1024)        524288    \n",
            "_________________________________________________________________\n",
            "conv_pw_12_bn (BatchNormaliz (None, 7, 7, 1024)        4096      \n",
            "_________________________________________________________________\n",
            "conv_pw_12_relu (ReLU)       (None, 7, 7, 1024)        0         \n",
            "_________________________________________________________________\n",
            "conv_dw_13 (DepthwiseConv2D) (None, 7, 7, 1024)        9216      \n",
            "_________________________________________________________________\n",
            "conv_dw_13_bn (BatchNormaliz (None, 7, 7, 1024)        4096      \n",
            "_________________________________________________________________\n",
            "conv_dw_13_relu (ReLU)       (None, 7, 7, 1024)        0         \n",
            "_________________________________________________________________\n",
            "conv_pw_13 (Conv2D)          (None, 7, 7, 1024)        1048576   \n",
            "_________________________________________________________________\n",
            "conv_pw_13_bn (BatchNormaliz (None, 7, 7, 1024)        4096      \n",
            "_________________________________________________________________\n",
            "conv_pw_13_relu (ReLU)       (None, 7, 7, 1024)        0         \n",
            "_________________________________________________________________\n",
            "batch_normalization (BatchNo (None, 7, 7, 1024)        4096      \n",
            "_________________________________________________________________\n",
            "global_average_pooling2d (Gl (None, 1024)              0         \n",
            "_________________________________________________________________\n",
            "dropout (Dropout)            (None, 1024)              0         \n",
            "_________________________________________________________________\n",
            "dense (Dense)                (None, 11)                11275     \n",
            "=================================================================\n",
            "Total params: 3,244,235\n",
            "Trainable params: 13,323\n",
            "Non-trainable params: 3,230,912\n",
            "_________________________________________________________________\n"
          ]
        }
      ]
    },
    {
      "cell_type": "code",
      "metadata": {
        "id": "5DDdTejGDa10"
      },
      "source": [
        "from tensorflow.keras.losses import SparseCategoricalCrossentropy\n",
        "model.compile(\n",
        "        loss=SparseCategoricalCrossentropy(),\n",
        "        optimizer=\"adam\",\n",
        "        metrics=[\"acc\"]\n",
        ")"
      ],
      "execution_count": 5,
      "outputs": []
    },
    {
      "cell_type": "code",
      "metadata": {
        "id": "QCEzlYTR01Ek"
      },
      "source": [
        "import glob\n",
        "import os\n",
        "os.chdir(\"/content/drive/MyDrive/Tebame_第四組_機車辨識\")"
      ],
      "execution_count": 6,
      "outputs": []
    },
    {
      "cell_type": "code",
      "metadata": {
        "id": "ymnc9_Gj37Eq"
      },
      "source": [
        "s2 = glob.glob(\"./裁剪照片(不含不用裁的)/GOGORO_S2_裁/*.jpg\") \n",
        "\n",
        "gp = glob.glob(\"./裁剪照片(不含不用裁的)/KYMCO_GP_125_裁/*\") \n",
        "\n",
        "krv = glob.glob(\"./裁剪照片(不含不用裁的)/KYMCO_KRV_裁/*\")\n",
        "\n",
        "fiddle = glob.glob(\"./裁剪照片(不含不用裁的)/SYM_FIDDLE_125_裁/*\") \n",
        "\n",
        "sr = glob.glob(\"./裁剪照片(不含不用裁的)/SYM_JET_SR_125_裁/*\")\n",
        "\n",
        "vivo = glob.glob(\"./裁剪照片(不含不用裁的)/SYM_活力_125_裁/*\")\n",
        "\n",
        "famous = glob.glob(\"./裁剪照片(不含不用裁的)/KYMCO_新名流125_裁/*\")\n",
        "\n",
        "drg = glob.glob(\"./裁剪照片(不含不用裁的)/SYM_DRG_裁/*\") \n",
        "\n",
        "duke = glob.glob(\"./裁剪照片(不含不用裁的)/SYM_新迪爵_125 _裁/*\")\n",
        "\n",
        "limi = glob.glob(\"./裁剪照片(不含不用裁的)/YAMAHA_LIMI_125_已裁減/*\")\n",
        "\n",
        "gryphus6 = glob.glob(\"./裁剪照片(不含不用裁的)/YAMAHA_六代勁戰_125_裁/*\")"
      ],
      "execution_count": 7,
      "outputs": []
    },
    {
      "cell_type": "code",
      "metadata": {
        "colab": {
          "base_uri": "https://localhost:8080/"
        },
        "id": "KdqqgvDZ5XT5",
        "outputId": "2289d221-5c41-4649-dba8-a067459ebdfb"
      },
      "source": [
        "print(\"s2 共:\", len(s2))\n",
        "print(\"gp 共:\", len(gp))\n",
        "print(\"krv 共:\", len(krv))\n",
        "print(\"fiddle 共:\", len(fiddle))\n",
        "print(\"sr 共:\", len(sr))\n",
        "print(\"vivo 共:\", len(vivo))\n",
        "print(\"famous 共:\", len(famous))\n",
        "print(\"drg 共:\", len(drg))\n",
        "print(\"duke 共:\", len(duke))\n",
        "print(\"limi 共:\", len(limi))\n",
        "print(\"gryphus6 共:\", len(gryphus6))"
      ],
      "execution_count": 8,
      "outputs": [
        {
          "output_type": "stream",
          "name": "stdout",
          "text": [
            "s2 共: 349\n",
            "gp 共: 265\n",
            "krv 共: 331\n",
            "fiddle 共: 649\n",
            "sr 共: 219\n",
            "vivo 共: 354\n",
            "famous 共: 148\n",
            "drg 共: 418\n",
            "duke 共: 456\n",
            "limi 共: 322\n",
            "gryphus6 共: 541\n"
          ]
        }
      ]
    },
    {
      "cell_type": "code",
      "metadata": {
        "id": "9O7ikP7v4CVA"
      },
      "source": [
        "import tensorflow as tf\n",
        "import cv2\n",
        "from skimage import io\n",
        "import matplotlib.pyplot as plt\n",
        "import numpy as np\n",
        "from PIL import Image\n",
        "import imgaug.augmenters as iaa\n",
        "import imgaug as ia\n",
        "from tensorflow.keras.applications.mobilenet import preprocess_input "
      ],
      "execution_count": 9,
      "outputs": []
    },
    {
      "cell_type": "code",
      "metadata": {
        "id": "ES3fzcug06mi"
      },
      "source": [
        "class DataGenerator(tf.keras.utils.Sequence):\n",
        "    def __init__(self, img_paths, batch_size, img_size, shuffle=True, aug=False):\n",
        "        self.img_paths = img_paths\n",
        "        self.batch_size = batch_size\n",
        "        self.img_size = img_size\n",
        "        self.shuffle = shuffle\n",
        "        self.aug = aug\n",
        "\n",
        "        self.indexes = np.arange(len(self.img_paths)) # [0, 1, 2, 3, 4, 5]\n",
        "        self.on_epoch_end()\n",
        "\n",
        "    def __len__(self):\n",
        "        return int(np.ceil(len(self.img_paths) / self.batch_size)) # batches per epoch\n",
        "\n",
        "    def __getitem__(self, index):\n",
        "        # Generate indexes of the batch\n",
        "        idxs = self.indexes[index * self.batch_size:(index + 1) * self.batch_size]\n",
        "        # Find list of IDs\n",
        "        batch_img_paths = [self.img_paths[i] for i in idxs]\n",
        "\n",
        "        # Generates data containing batch_size samples\n",
        "        x = np.empty((len(batch_img_paths), self.img_size, self.img_size, 3), dtype=np.float32)\n",
        "        y = np.empty((len(batch_img_paths), 1), dtype=np.float32)\n",
        "        # y = np.array(df[\"ans\"])\n",
        "\n",
        "        for i, img_path in enumerate(batch_img_paths):\n",
        "            # read img\n",
        "            # img = cv2.imread(img_path)\n",
        "            # img = cv2.resize(img, (self.img_size, self.img_size))\n",
        "            # img = img / 255.\n",
        "\n",
        "            img = Image.open(img_path).resize((self.img_size, self.img_size)).convert(\"RGB\")\n",
        "            img = np.array(img)\n",
        "            img = preprocess_input(img)\n",
        "\n",
        "            if self.aug:\n",
        "              seq = iaa.Sequential([\n",
        "                      iaa.Fliplr(0.5), # 50% horizontal flip\n",
        "                      iaa.Flipud(0), # 50% vertical flip\n",
        "                      iaa.Affine(\n",
        "                      rotate=(-45, 45), # random rotate -45 ~ +45 degree\n",
        "                      shear=(-16, 16), # random shear -16 ~ +16 degree\n",
        "                      scale={\"x\": (0.8, 1.2), \"y\": (0.8, 1.2)}, # scale x, y: 80%~120%,\n",
        "                      mode='constant', # ia.ALL, 'constant','edge', 'symmetric', 'reflect', 'wrap'\n",
        "                      cval=0,\n",
        "                        ),\n",
        "                      ])\n",
        "              img_aug = seq.augment_image(img)\n",
        "              img = img_aug # Augmentation\n",
        "\n",
        "            # read class label\n",
        "            cls = img_path.split('/')[-2]\n",
        "            if \"S2\" in cls:\n",
        "                cls = 0\n",
        "            elif \"GP\" in cls:\n",
        "                cls = 1\n",
        "            elif \"KRV\" in cls:\n",
        "                cls = 2\n",
        "            elif \"FIDDLE\" in cls:\n",
        "                cls = 3\n",
        "            elif \"SR\" in cls:\n",
        "                cls = 4\n",
        "            elif \"活力\" in cls:\n",
        "                cls = 5\n",
        "            elif \"新名流\" in cls:\n",
        "                cls = 6\n",
        "            elif \"DRG\" in cls:\n",
        "                cls = 7\n",
        "            elif \"新迪爵\" in cls:\n",
        "                cls = 8\n",
        "            elif \"LIMI\" in cls:\n",
        "                cls = 9\n",
        "            elif \"六代\" in cls:\n",
        "                cls = 10      \n",
        "            x[i] = img\n",
        "            y[i] = cls\n",
        "            \n",
        "        return x, y\n",
        "\n",
        "    def on_epoch_end(self):\n",
        "        # Updates indexes after each epoch\n",
        "        if self.shuffle:\n",
        "            np.random.shuffle(self.indexes)"
      ],
      "execution_count": 10,
      "outputs": []
    },
    {
      "cell_type": "code",
      "metadata": {
        "colab": {
          "base_uri": "https://localhost:8080/"
        },
        "id": "gSIznliv3huZ",
        "outputId": "6edb320b-0e42-491e-9c0a-49e0ff4bcb99"
      },
      "source": [
        "img_paths = s2 + gp + krv + fiddle + sr + vivo + famous + drg + duke + limi + gryphus6\n",
        "len(img_paths)"
      ],
      "execution_count": 11,
      "outputs": [
        {
          "output_type": "execute_result",
          "data": {
            "text/plain": [
              "4052"
            ]
          },
          "metadata": {},
          "execution_count": 11
        }
      ]
    },
    {
      "cell_type": "code",
      "metadata": {
        "colab": {
          "base_uri": "https://localhost:8080/"
        },
        "id": "bSgEm5SK4eRD",
        "outputId": "4f416d09-a4ab-439f-d1e5-5e03350cbc60"
      },
      "source": [
        "from sklearn.model_selection import train_test_split\n",
        "train_img_paths, val_img_paths = train_test_split(img_paths, test_size=0.1)\n",
        "len(train_img_paths), len(val_img_paths)"
      ],
      "execution_count": 12,
      "outputs": [
        {
          "output_type": "execute_result",
          "data": {
            "text/plain": [
              "(3646, 406)"
            ]
          },
          "metadata": {},
          "execution_count": 12
        }
      ]
    },
    {
      "cell_type": "code",
      "metadata": {
        "id": "cCSvOHiK4hGR"
      },
      "source": [
        "train_gen = DataGenerator(train_img_paths, 32, 224, shuffle=True, aug=True)\n",
        "val_gen = DataGenerator(val_img_paths, 32, 224, shuffle=False, aug=False)"
      ],
      "execution_count": 13,
      "outputs": []
    },
    {
      "cell_type": "code",
      "metadata": {
        "colab": {
          "base_uri": "https://localhost:8080/"
        },
        "id": "X5PEXBrr6FwT",
        "outputId": "ba8a658e-76d5-4ff6-e9c3-e8938cf37409"
      },
      "source": [
        "train_gen.indexes"
      ],
      "execution_count": 14,
      "outputs": [
        {
          "output_type": "execute_result",
          "data": {
            "text/plain": [
              "array([3603,  447, 1284, ...,  843, 3630,  446])"
            ]
          },
          "metadata": {},
          "execution_count": 14
        }
      ]
    },
    {
      "cell_type": "code",
      "metadata": {
        "colab": {
          "base_uri": "https://localhost:8080/"
        },
        "id": "ezNedJqn6LpR",
        "outputId": "4d947d35-4e02-4044-b9d4-88879f229664"
      },
      "source": [
        "len(train_gen)"
      ],
      "execution_count": 15,
      "outputs": [
        {
          "output_type": "execute_result",
          "data": {
            "text/plain": [
              "114"
            ]
          },
          "metadata": {},
          "execution_count": 15
        }
      ]
    },
    {
      "cell_type": "code",
      "metadata": {
        "id": "vmKX_R326bG4"
      },
      "source": [
        "imgs, labels = train_gen[2]"
      ],
      "execution_count": 16,
      "outputs": []
    },
    {
      "cell_type": "code",
      "metadata": {
        "colab": {
          "base_uri": "https://localhost:8080/"
        },
        "id": "mSuaqeYr9NJx",
        "outputId": "a0a89ab6-a6f8-4bd6-841c-ef46a9ddda24"
      },
      "source": [
        "imgs.shape, labels.shape"
      ],
      "execution_count": 17,
      "outputs": [
        {
          "output_type": "execute_result",
          "data": {
            "text/plain": [
              "((32, 224, 224, 3), (32, 1))"
            ]
          },
          "metadata": {},
          "execution_count": 17
        }
      ]
    },
    {
      "cell_type": "code",
      "metadata": {
        "colab": {
          "base_uri": "https://localhost:8080/"
        },
        "id": "BYq3HQxS_zxE",
        "outputId": "106308b4-e86e-4dca-f379-3fc0b689f90e"
      },
      "source": [
        "from tensorflow.keras.callbacks import EarlyStopping, ModelCheckpoint\n",
        "callbacks = [\n",
        "             EarlyStopping(patience=10, restore_best_weights=True),\n",
        "             ModelCheckpoint(\"/content/1109.h5\", save_best_only=True)\n",
        "]\n",
        "\n",
        "model.fit(\n",
        "    train_gen,\n",
        "    steps_per_epoch=10,\n",
        "    epochs=300,\n",
        "    validation_data=val_gen,\n",
        "    validation_steps=2, \n",
        "    callbacks=callbacks\n",
        "                    )"
      ],
      "execution_count": null,
      "outputs": [
        {
          "output_type": "stream",
          "name": "stdout",
          "text": [
            "Epoch 1/300\n",
            "10/10 [==============================] - 144s 11s/step - loss: 2.5644 - acc: 0.0906 - val_loss: 2.5784 - val_acc: 0.0156\n",
            "Epoch 2/300\n",
            "10/10 [==============================] - 90s 9s/step - loss: 2.2258 - acc: 0.0969 - val_loss: 2.1975 - val_acc: 0.0781\n",
            "Epoch 3/300\n",
            "10/10 [==============================] - 84s 8s/step - loss: 2.0104 - acc: 0.1187 - val_loss: 1.9143 - val_acc: 0.1094\n",
            "Epoch 4/300\n",
            " 6/10 [=================>............] - ETA: 29s - loss: 1.8889 - acc: 0.0833"
          ]
        }
      ]
    }
  ]
}