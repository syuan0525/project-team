{
  "nbformat": 4,
  "nbformat_minor": 0,
  "metadata": {
    "colab": {
      "name": "Untitled0.ipynb",
      "provenance": [],
      "authorship_tag": "ABX9TyNx6W00ehUBqVRXk6DAyFjy",
      "include_colab_link": true
    },
    "kernelspec": {
      "name": "python3",
      "display_name": "Python 3"
    },
    "language_info": {
      "name": "python"
    }
  },
  "cells": [
    {
      "cell_type": "markdown",
      "metadata": {
        "id": "view-in-github",
        "colab_type": "text"
      },
      "source": [
        "<a href=\"https://colab.research.google.com/github/syuan0525/project-team/blob/main/oilprice.ipynb\" target=\"_parent\"><img src=\"https://colab.research.google.com/assets/colab-badge.svg\" alt=\"Open In Colab\"/></a>"
      ]
    },
    {
      "cell_type": "code",
      "metadata": {
        "id": "PGXHIpbAa7zP"
      },
      "source": [
        "from urllib.request import urlopen, Request\n",
        "from bs4 import BeautifulSoup\n",
        "import pandas as pd\n",
        "import prettytable"
      ],
      "execution_count": null,
      "outputs": []
    },
    {
      "cell_type": "code",
      "metadata": {
        "id": "Uk3Q1AT1br_B"
      },
      "source": [
        "url = \"https://gas.goodlife.tw/\"\n",
        "req = Request(url,headers={\n",
        "    \"user-agent\" : \"Mozilla/5.0\"\n",
        "  })\n",
        "response = urlopen(req)\n",
        "html = BeautifulSoup(response)"
      ],
      "execution_count": null,
      "outputs": []
    },
    {
      "cell_type": "code",
      "metadata": {
        "id": "Yob8Pd8Wn6qZ"
      },
      "source": [
        "for i in html.find_all(\"div\",id=\"cpc\"):\n",
        "  s1 = i.find_all(\"li\")[0].find(\"h3\")\n",
        "  s1.extract()\n",
        "  s2 = i.find_all(\"li\")[1].find(\"h3\")\n",
        "  s2.extract()\n",
        "  s3 = i.find_all(\"li\")[2].find(\"h3\")\n",
        "  s3.extract()"
      ],
      "execution_count": null,
      "outputs": []
    },
    {
      "cell_type": "code",
      "metadata": {
        "id": "XsqIa6v57t8J"
      },
      "source": [
        "df = pd.DataFrame(columns=[\"公司\",\"92油價(每公升)\",\"95油價(每公升)\",\"98油價(每公升)\"])\n",
        "table = prettytable.PrettyTable([\"公司\",\"92油價(每公升)\",\"95油價(每公升)\",\"98油價(每公升)\"])"
      ],
      "execution_count": null,
      "outputs": []
    },
    {
      "cell_type": "code",
      "metadata": {
        "id": "QIW395Dt6a8a"
      },
      "source": [
        "for i in html.find_all(\"div\",id=\"cpc\"):\n",
        "  company = i.find(\"h2\").text\n",
        "  price92 = i.find_all(\"li\")[0].text.replace(\"\\n\", \"\")\n",
        "  price95 = i.find_all(\"li\")[1].text.replace(\"\\n\", \"\")\n",
        "  price98 = i.find_all(\"li\")[2].text.replace(\"\\n\", \"\")\n",
        "  s = pd.Series([company,price92,price95,price98],index=[\"公司\",\"92油價(每公升)\",\"95油價(每公升)\",\"98油價(每公升)\"])\n",
        "  df = df.append(s,ignore_index=True)\n",
        "  table.add_row([company,price92,price95,price98])"
      ],
      "execution_count": null,
      "outputs": []
    },
    {
      "cell_type": "code",
      "metadata": {
        "id": "OchTBp9nFyfL",
        "colab": {
          "base_uri": "https://localhost:8080/",
          "height": 111
        },
        "outputId": "2eb3799c-9eef-4fd6-e06e-47bb3c1a7612"
      },
      "source": [
        "df"
      ],
      "execution_count": null,
      "outputs": [
        {
          "output_type": "execute_result",
          "data": {
            "text/html": [
              "<div>\n",
              "<style scoped>\n",
              "    .dataframe tbody tr th:only-of-type {\n",
              "        vertical-align: middle;\n",
              "    }\n",
              "\n",
              "    .dataframe tbody tr th {\n",
              "        vertical-align: top;\n",
              "    }\n",
              "\n",
              "    .dataframe thead th {\n",
              "        text-align: right;\n",
              "    }\n",
              "</style>\n",
              "<table border=\"1\" class=\"dataframe\">\n",
              "  <thead>\n",
              "    <tr style=\"text-align: right;\">\n",
              "      <th></th>\n",
              "      <th>公司</th>\n",
              "      <th>92油價(每公升)</th>\n",
              "      <th>95油價(每公升)</th>\n",
              "      <th>98油價(每公升)</th>\n",
              "    </tr>\n",
              "  </thead>\n",
              "  <tbody>\n",
              "    <tr>\n",
              "      <th>0</th>\n",
              "      <td>今日中油油價</td>\n",
              "      <td>30.1</td>\n",
              "      <td>31.6</td>\n",
              "      <td>33.6</td>\n",
              "    </tr>\n",
              "    <tr>\n",
              "      <th>1</th>\n",
              "      <td>今日台塑油價</td>\n",
              "      <td>30.1</td>\n",
              "      <td>31.5</td>\n",
              "      <td>33.6</td>\n",
              "    </tr>\n",
              "  </tbody>\n",
              "</table>\n",
              "</div>"
            ],
            "text/plain": [
              "       公司 92油價(每公升) 95油價(每公升) 98油價(每公升)\n",
              "0  今日中油油價      30.1      31.6      33.6\n",
              "1  今日台塑油價      30.1      31.5      33.6"
            ]
          },
          "metadata": {},
          "execution_count": 15
        }
      ]
    },
    {
      "cell_type": "code",
      "metadata": {
        "id": "RBydtjZ88stl",
        "colab": {
          "base_uri": "https://localhost:8080/"
        },
        "outputId": "2a9aea0f-ab6a-4fd2-9793-14b322057c42"
      },
      "source": [
        "print(table)"
      ],
      "execution_count": null,
      "outputs": [
        {
          "output_type": "stream",
          "name": "stdout",
          "text": [
            "+--------------+----------------+----------------+----------------+\n",
            "|     公司     | 92油價(每公升) | 95油價(每公升) | 98油價(每公升) |\n",
            "+--------------+----------------+----------------+----------------+\n",
            "| 今日中油油價 |      30.1      |      31.6      |      33.6      |\n",
            "| 今日台塑油價 |      30.1      |      31.5      |      33.6      |\n",
            "+--------------+----------------+----------------+----------------+\n"
          ]
        }
      ]
    }
  ]
}