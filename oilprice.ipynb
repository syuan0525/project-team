{
  "nbformat": 4,
  "nbformat_minor": 0,
  "metadata": {
    "colab": {
      "name": "Untitled0.ipynb",
      "provenance": [],
      "authorship_tag": "ABX9TyOrI/l124E5hwzo+rh9TUO7",
      "include_colab_link": true
    },
    "kernelspec": {
      "name": "python3",
      "display_name": "Python 3"
    },
    "language_info": {
      "name": "python"
    }
  },
  "cells": [
    {
      "cell_type": "markdown",
      "metadata": {
        "id": "view-in-github",
        "colab_type": "text"
      },
      "source": [
        "<a href=\"https://colab.research.google.com/github/syuan0525/project-team/blob/main/oilprice.ipynb\" target=\"_parent\"><img src=\"https://colab.research.google.com/assets/colab-badge.svg\" alt=\"Open In Colab\"/></a>"
      ]
    },
    {
      "cell_type": "code",
      "metadata": {
        "id": "PGXHIpbAa7zP"
      },
      "source": [
        "from urllib.request import urlopen, Request\n",
        "from bs4 import BeautifulSoup\n",
        "import pandas as pd\n",
        "import prettytable"
      ],
      "execution_count": 25,
      "outputs": []
    },
    {
      "cell_type": "code",
      "metadata": {
        "id": "Uk3Q1AT1br_B"
      },
      "source": [
        "url = \"https://gas.goodlife.tw/\"\n",
        "req = Request(url,headers={\n",
        "    \"user-agent\" : \"Mozilla/5.0\"\n",
        "  })\n",
        "response = urlopen(req)\n",
        "html = BeautifulSoup(response)"
      ],
      "execution_count": 26,
      "outputs": []
    },
    {
      "cell_type": "code",
      "metadata": {
        "id": "Yob8Pd8Wn6qZ"
      },
      "source": [
        "for i in html.find_all(\"div\",id=\"cpc\"):\n",
        "  s1 = i.find_all(\"li\")[0].find(\"h3\")\n",
        "  s1.extract()\n",
        "  s2 = i.find_all(\"li\")[1].find(\"h3\")\n",
        "  s2.extract()\n",
        "  s3 = i.find_all(\"li\")[2].find(\"h3\")\n",
        "  s3.extract()"
      ],
      "execution_count": 27,
      "outputs": []
    },
    {
      "cell_type": "code",
      "metadata": {
        "id": "XsqIa6v57t8J"
      },
      "source": [
        "df = pd.DataFrame(columns=[\"公司\",\"92油價(每公升)\",\"95油價(每公升)\",\"98油價(每公升)\"])\n",
        "table1 = prettytable.PrettyTable([\"公司\",\"92油價(每公升)\",\"95油價(每公升)\",\"98油價(每公升)\"])"
      ],
      "execution_count": 28,
      "outputs": []
    },
    {
      "cell_type": "code",
      "metadata": {
        "id": "QIW395Dt6a8a"
      },
      "source": [
        "for i in html.find_all(\"div\",id=\"cpc\"):\n",
        "  company = i.find(\"h2\").text\n",
        "  price92 = i.find_all(\"li\")[0].text.replace(\"\\n\", \"\")\n",
        "  price95 = i.find_all(\"li\")[1].text.replace(\"\\n\", \"\")\n",
        "  price98 = i.find_all(\"li\")[2].text.replace(\"\\n\", \"\")\n",
        "  s = pd.Series([company,price92,price95,price98],index=[\"公司\",\"92油價(每公升)\",\"95油價(每公升)\",\"98油價(每公升)\"])\n",
        "  df = df.append(s,ignore_index=True)\n",
        "  table1.add_row([company,price92,price95,price98])"
      ],
      "execution_count": 29,
      "outputs": []
    },
    {
      "cell_type": "code",
      "metadata": {
        "id": "OchTBp9nFyfL",
        "colab": {
          "base_uri": "https://localhost:8080/",
          "height": 112
        },
        "outputId": "54cccccc-247d-4387-a41f-17ddb2d08414"
      },
      "source": [
        "df"
      ],
      "execution_count": 30,
      "outputs": [
        {
          "output_type": "execute_result",
          "data": {
            "text/html": [
              "<div>\n",
              "<style scoped>\n",
              "    .dataframe tbody tr th:only-of-type {\n",
              "        vertical-align: middle;\n",
              "    }\n",
              "\n",
              "    .dataframe tbody tr th {\n",
              "        vertical-align: top;\n",
              "    }\n",
              "\n",
              "    .dataframe thead th {\n",
              "        text-align: right;\n",
              "    }\n",
              "</style>\n",
              "<table border=\"1\" class=\"dataframe\">\n",
              "  <thead>\n",
              "    <tr style=\"text-align: right;\">\n",
              "      <th></th>\n",
              "      <th>公司</th>\n",
              "      <th>92油價(每公升)</th>\n",
              "      <th>95油價(每公升)</th>\n",
              "      <th>98油價(每公升)</th>\n",
              "    </tr>\n",
              "  </thead>\n",
              "  <tbody>\n",
              "    <tr>\n",
              "      <th>0</th>\n",
              "      <td>今日中油油價</td>\n",
              "      <td>30.2</td>\n",
              "      <td>31.7</td>\n",
              "      <td>33.7</td>\n",
              "    </tr>\n",
              "    <tr>\n",
              "      <th>1</th>\n",
              "      <td>今日台塑油價</td>\n",
              "      <td>30.2</td>\n",
              "      <td>31.6</td>\n",
              "      <td>33.7</td>\n",
              "    </tr>\n",
              "  </tbody>\n",
              "</table>\n",
              "</div>"
            ],
            "text/plain": [
              "       公司 92油價(每公升) 95油價(每公升) 98油價(每公升)\n",
              "0  今日中油油價      30.2      31.7      33.7\n",
              "1  今日台塑油價      30.2      31.6      33.7"
            ]
          },
          "metadata": {},
          "execution_count": 30
        }
      ]
    },
    {
      "cell_type": "code",
      "metadata": {
        "id": "RBydtjZ88stl",
        "colab": {
          "base_uri": "https://localhost:8080/"
        },
        "outputId": "811966ad-e525-452a-e04a-66d63e8450cf"
      },
      "source": [
        "print(table1)"
      ],
      "execution_count": 33,
      "outputs": [
        {
          "output_type": "stream",
          "name": "stdout",
          "text": [
            "+--------------+----------------+----------------+----------------+\n",
            "|     公司     | 92油價(每公升) | 95油價(每公升) | 98油價(每公升) |\n",
            "+--------------+----------------+----------------+----------------+\n",
            "| 今日中油油價 |      30.2      |      31.7      |      33.7      |\n",
            "| 今日台塑油價 |      30.2      |      31.6      |      33.7      |\n",
            "+--------------+----------------+----------------+----------------+\n"
          ]
        }
      ]
    },
    {
      "cell_type": "code",
      "metadata": {
        "id": "xDood6uB09eh"
      },
      "source": [
        "!wget -O TaipeiSansTCBeta-Regular.ttf https://drive.google.com/uc?id=1eGAsTN1HBpJAkeVM57_C7ccp7hbgSz3_&export=download"
      ],
      "execution_count": null,
      "outputs": []
    },
    {
      "cell_type": "code",
      "metadata": {
        "colab": {
          "base_uri": "https://localhost:8080/",
          "height": 284
        },
        "id": "opsMoiMYeblD",
        "outputId": "9ff67d33-87fc-4b66-9ef8-ae1a6d32d481"
      },
      "source": [
        "import matplotlib.pyplot as plt\n",
        "import pandas as pd\n",
        "from pandas.plotting import table\n",
        "import matplotlib as mpl\n",
        "from matplotlib.font_manager import fontManager\n",
        "\n",
        "fontManager.addfont('TaipeiSansTCBeta-Regular.ttf')\n",
        "mpl.rc('font', family='Taipei Sans TC Beta')\n",
        "\n",
        "\n",
        "ax = plt.subplot(111, frame_on=False) # no visible frame\n",
        "ax.xaxis.set_visible(False)  # hide the x axis\n",
        "ax.yaxis.set_visible(False)  # hide the y axis\n",
        "\n",
        "table(ax, df)  # where df is your data frame\n",
        "\n",
        "plt.savefig('mytable.png')"
      ],
      "execution_count": 37,
      "outputs": [
        {
          "output_type": "display_data",
          "data": {
            "image/png": "[encoded data removed]",
            "text/plain": [
              "<Figure size 432x288 with 1 Axes>"
            ]
          },
          "metadata": {
            "needs_background": "light"
          }
        }
      ]
    }
  ]
}