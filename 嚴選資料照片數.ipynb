{
  "nbformat": 4,
  "nbformat_minor": 0,
  "metadata": {
    "colab": {
      "name": "Untitled4.ipynb",
      "provenance": [],
      "authorship_tag": "ABX9TyMwgV8bXrSiFaP8LxhkrAXb",
      "include_colab_link": true
    },
    "kernelspec": {
      "name": "python3",
      "display_name": "Python 3"
    },
    "language_info": {
      "name": "python"
    }
  },
  "cells": [
    {
      "cell_type": "markdown",
      "metadata": {
        "id": "view-in-github",
        "colab_type": "text"
      },
      "source": [
        "<a href=\"https://colab.research.google.com/github/syuan0525/project-team/blob/main/%E5%9A%B4%E9%81%B8%E8%B3%87%E6%96%99%E7%85%A7%E7%89%87%E6%95%B8.ipynb\" target=\"_parent\"><img src=\"https://colab.research.google.com/assets/colab-badge.svg\" alt=\"Open In Colab\"/></a>"
      ]
    },
    {
      "cell_type": "code",
      "metadata": {
        "colab": {
          "base_uri": "https://localhost:8080/"
        },
        "id": "sFcMgn769BT1",
        "outputId": "6939828b-14fe-43ad-c20c-b86d5bb87839"
      },
      "source": [
        "# 連接雲端硬碟\n",
        "from google.colab import drive\n",
        "drive.mount('/content/drive')"
      ],
      "execution_count": 1,
      "outputs": [
        {
          "output_type": "stream",
          "name": "stdout",
          "text": [
            "Mounted at /content/drive\n"
          ]
        }
      ]
    },
    {
      "cell_type": "code",
      "metadata": {
        "id": "EOBUhcKo9EO4"
      },
      "source": [
        "import glob\n",
        "import os\n",
        "os.chdir(\"/content/drive/MyDrive/Tebame_第四組_機車辨識\")"
      ],
      "execution_count": 2,
      "outputs": []
    },
    {
      "cell_type": "code",
      "metadata": {
        "colab": {
          "base_uri": "https://localhost:8080/"
        },
        "id": "6XBmT7_f9JtY",
        "outputId": "8926ed63-e1dc-4854-b25b-7267aae6aaaf"
      },
      "source": [
        "scooters_ori = glob.glob(\"/content/drive/MyDrive/Tebame_第四組_機車辨識/嚴選資料集/*\")\n",
        "ori_dir = [i.replace(\"/content/drive/MyDrive/Tebame_第四組_機車辨識/嚴選資料集/\", \"\") for i in scooters_ori]\n",
        "ori_dict = {i:len(glob.glob(\"/content/drive/MyDrive/Tebame_第四組_機車辨識/嚴選資料集/\"+i+\"/*\")) for i in ori_dir }\n",
        "print(\"原始照片各款各有幾張照片(共{}款) : \".format(len(ori_dict)))\n",
        "for i in sorted(ori_dict.items(), key=lambda x:x[1], reverse=True):\n",
        "       print(i, end=\"\\n\")"
      ],
      "execution_count": 4,
      "outputs": [
        {
          "output_type": "stream",
          "name": "stdout",
          "text": [
            "原始照片各款各有幾張照片(共20款) : \n",
            "('SYM_FIDDLE_125_裁', 778)\n",
            "('SYM_新迪爵_125 _裁', 535)\n",
            "('KYMCO_GP_125_裁', 480)\n",
            "('YAMAHA_勁豪_125_裁', 462)\n",
            "('YAMAHA_六代勁戰_125_裁', 405)\n",
            "('KYMCO_MANY_125_裁', 374)\n",
            "('GOGORO_S2_裁', 313)\n",
            "('KYMCO_KRV_裁', 301)\n",
            "('SYM_活力_125_裁', 276)\n",
            "('SYM_DRG_裁', 266)\n",
            "('KYMCO_LIKE_125_裁', 246)\n",
            "('YAMAHA_LIMI_125_已裁減', 229)\n",
            "('SYM_JET_SR_125_裁', 192)\n",
            "('YAMAHA_JOG_125_裁', 162)\n",
            "('KYMCO_新名流125_裁', 146)\n",
            "('SYM_JET_SL_125_裁', 142)\n",
            "('GOGORO_VIVA_MIX_裁', 133)\n",
            "('YAMAHA_FORCE_裁', 129)\n",
            "('YAMAHA_BWS_125_裁', 122)\n",
            "('GOGORO_S3_裁', 92)\n"
          ]
        }
      ]
    }
  ]
}