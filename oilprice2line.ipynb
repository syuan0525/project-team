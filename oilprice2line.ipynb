{
  "nbformat": 4,
  "nbformat_minor": 0,
  "metadata": {
    "colab": {
      "name": "sample1",
      "provenance": [],
      "collapsed_sections": [],
      "include_colab_link": true
    },
    "kernelspec": {
      "name": "python3",
      "display_name": "Python 3"
    }
  },
  "cells": [
    {
      "cell_type": "markdown",
      "metadata": {
        "id": "view-in-github",
        "colab_type": "text"
      },
      "source": [
        "<a href=\"https://colab.research.google.com/github/syuan0525/project-team/blob/main/oilprice2line.ipynb\" target=\"_parent\"><img src=\"https://colab.research.google.com/assets/colab-badge.svg\" alt=\"Open In Colab\"/></a>"
      ]
    },
    {
      "cell_type": "code",
      "metadata": {
        "id": "ylkDvkEfEZIw",
        "outputId": "af4a56dd-8273-40c4-c048-2e761f24c990",
        "colab": {
          "base_uri": "https://localhost:8080/",
          "height": 36
        }
      },
      "source": [
        "'''\n",
        "掛載Google硬碟\n",
        "安裝套件\n",
        "引用套件\n",
        "APP應用準備\n",
        "消息素材準備\n",
        "handler執行方法設計\n",
        "啟動應用\n",
        "\n",
        "\n",
        "'''"
      ],
      "execution_count": 32,
      "outputs": [
        {
          "output_type": "execute_result",
          "data": {
            "application/vnd.google.colaboratory.intrinsic+json": {
              "type": "string"
            },
            "text/plain": [
              "'\\n掛載Google硬碟\\n安裝套件\\n引用套件\\nAPP應用準備\\n消息素材準備\\nhandler執行方法設計\\n啟動應用\\n\\n\\n'"
            ]
          },
          "metadata": {},
          "execution_count": 32
        }
      ]
    },
    {
      "cell_type": "code",
      "metadata": {
        "id": "2mDqhB78Fxp6",
        "outputId": "279c7814-98e1-42d3-ee6e-d9022f6fe54a",
        "colab": {
          "base_uri": "https://localhost:8080/"
        }
      },
      "source": [
        "'''\n",
        "\n",
        "資料 mapping 至google drive\n",
        "\n",
        "把資料寫在/content/drive\n",
        "\n",
        "即可保存在 google drive內\n",
        "\n",
        "'''\n",
        "from google.colab import drive\n",
        "drive.mount('/content/drive')"
      ],
      "execution_count": 33,
      "outputs": [
        {
          "output_type": "stream",
          "name": "stdout",
          "text": [
            "Drive already mounted at /content/drive; to attempt to forcibly remount, call drive.mount(\"/content/drive\", force_remount=True).\n"
          ]
        }
      ]
    },
    {
      "cell_type": "code",
      "metadata": {
        "id": "4iGRs1oYD6Ca",
        "outputId": "6f115f3e-2464-4b82-9ac4-822e44457e81",
        "colab": {
          "base_uri": "https://localhost:8080/",
          "height": 36
        }
      },
      "source": [
        "'''\n",
        "\n",
        "流程解析\n",
        "\n",
        "'''\n"
      ],
      "execution_count": 34,
      "outputs": [
        {
          "output_type": "execute_result",
          "data": {
            "application/vnd.google.colaboratory.intrinsic+json": {
              "type": "string"
            },
            "text/plain": [
              "'\\n\\n流程解析\\n\\n'"
            ]
          },
          "metadata": {},
          "execution_count": 34
        }
      ]
    },
    {
      "cell_type": "code",
      "metadata": {
        "id": "JyhJqq8KImyR",
        "outputId": "11eecc6b-874e-4a36-8aef-e6672be3c97f",
        "colab": {
          "base_uri": "https://localhost:8080/"
        }
      },
      "source": [
        "!pip install line-bot-sdk flask flask-ngrok"
      ],
      "execution_count": 35,
      "outputs": [
        {
          "output_type": "stream",
          "name": "stdout",
          "text": [
            "Requirement already satisfied: line-bot-sdk in /usr/local/lib/python3.7/dist-packages (2.0.1)\n",
            "Requirement already satisfied: flask in /usr/local/lib/python3.7/dist-packages (1.1.4)\n",
            "Requirement already satisfied: flask-ngrok in /usr/local/lib/python3.7/dist-packages (0.0.25)\n",
            "Requirement already satisfied: future in /usr/local/lib/python3.7/dist-packages (from line-bot-sdk) (0.16.0)\n",
            "Requirement already satisfied: aiohttp>=3.7.4 in /usr/local/lib/python3.7/dist-packages (from line-bot-sdk) (3.8.0)\n",
            "Requirement already satisfied: requests>=2.0 in /usr/local/lib/python3.7/dist-packages (from line-bot-sdk) (2.23.0)\n",
            "Requirement already satisfied: async-timeout<5.0,>=4.0.0a3 in /usr/local/lib/python3.7/dist-packages (from aiohttp>=3.7.4->line-bot-sdk) (4.0.0)\n",
            "Requirement already satisfied: typing-extensions>=3.7.4 in /usr/local/lib/python3.7/dist-packages (from aiohttp>=3.7.4->line-bot-sdk) (3.7.4.3)\n",
            "Requirement already satisfied: yarl<2.0,>=1.0 in /usr/local/lib/python3.7/dist-packages (from aiohttp>=3.7.4->line-bot-sdk) (1.7.2)\n",
            "Requirement already satisfied: attrs>=17.3.0 in /usr/local/lib/python3.7/dist-packages (from aiohttp>=3.7.4->line-bot-sdk) (21.2.0)\n",
            "Requirement already satisfied: frozenlist>=1.1.1 in /usr/local/lib/python3.7/dist-packages (from aiohttp>=3.7.4->line-bot-sdk) (1.2.0)\n",
            "Requirement already satisfied: aiosignal>=1.1.2 in /usr/local/lib/python3.7/dist-packages (from aiohttp>=3.7.4->line-bot-sdk) (1.2.0)\n",
            "Requirement already satisfied: asynctest==0.13.0 in /usr/local/lib/python3.7/dist-packages (from aiohttp>=3.7.4->line-bot-sdk) (0.13.0)\n",
            "Requirement already satisfied: charset-normalizer<3.0,>=2.0 in /usr/local/lib/python3.7/dist-packages (from aiohttp>=3.7.4->line-bot-sdk) (2.0.7)\n",
            "Requirement already satisfied: multidict<7.0,>=4.5 in /usr/local/lib/python3.7/dist-packages (from aiohttp>=3.7.4->line-bot-sdk) (5.2.0)\n",
            "Requirement already satisfied: idna<3,>=2.5 in /usr/local/lib/python3.7/dist-packages (from requests>=2.0->line-bot-sdk) (2.10)\n",
            "Requirement already satisfied: chardet<4,>=3.0.2 in /usr/local/lib/python3.7/dist-packages (from requests>=2.0->line-bot-sdk) (3.0.4)\n",
            "Requirement already satisfied: certifi>=2017.4.17 in /usr/local/lib/python3.7/dist-packages (from requests>=2.0->line-bot-sdk) (2021.5.30)\n",
            "Requirement already satisfied: urllib3!=1.25.0,!=1.25.1,<1.26,>=1.21.1 in /usr/local/lib/python3.7/dist-packages (from requests>=2.0->line-bot-sdk) (1.24.3)\n",
            "Requirement already satisfied: click<8.0,>=5.1 in /usr/local/lib/python3.7/dist-packages (from flask) (7.1.2)\n",
            "Requirement already satisfied: itsdangerous<2.0,>=0.24 in /usr/local/lib/python3.7/dist-packages (from flask) (1.1.0)\n",
            "Requirement already satisfied: Jinja2<3.0,>=2.10.1 in /usr/local/lib/python3.7/dist-packages (from flask) (2.11.3)\n",
            "Requirement already satisfied: Werkzeug<2.0,>=0.15 in /usr/local/lib/python3.7/dist-packages (from flask) (1.0.1)\n",
            "Requirement already satisfied: MarkupSafe>=0.23 in /usr/local/lib/python3.7/dist-packages (from Jinja2<3.0,>=2.10.1->flask) (2.0.1)\n"
          ]
        }
      ]
    },
    {
      "cell_type": "code",
      "metadata": {
        "id": "rJDNE2TYEaYA"
      },
      "source": [
        "'''\n",
        "引用套件\n",
        "'''\n",
        "\n",
        "\n",
        "# 引用Web Server套件\n",
        "from flask import Flask, request, abort, jsonify\n",
        "\n",
        "# 載入json處理套件\n",
        "import json\n",
        "\n",
        "# 外部連結自動生成套件\n",
        "from flask_ngrok import run_with_ngrok\n",
        "\n",
        "# 從linebot 套件包裡引用 LineBotApi 與 WebhookHandler 類別\n",
        "from linebot import (\n",
        "    LineBotApi, WebhookHandler\n",
        ")\n",
        "\n",
        "# 引用無效簽章錯誤\n",
        "from linebot.exceptions import (\n",
        "    InvalidSignatureError\n",
        ")\n"
      ],
      "execution_count": 36,
      "outputs": []
    },
    {
      "cell_type": "code",
      "metadata": {
        "id": "XssY97Y9Eahe"
      },
      "source": [
        "'''\n",
        "建置主程序app\n",
        "\n",
        "建置handler與 line_bot_api\n",
        "'''\n",
        "import os\n",
        "\n",
        "if not os.path.isdir(\"/content/material\"):\n",
        "    os.mkdir(\"./material\")\n",
        "# 設定Server啟用細節\n",
        "app = Flask(__name__,static_url_path = \"/material\" , static_folder = \"./material/\")\n",
        "run_with_ngrok(app)\n",
        "\n",
        "# 生成實體物件\n",
        "line_bot_api = LineBotApi(\"fe9W+98abzzGHvjleSYFDLWQYEVgSPeDzwiitTXPNcDZa+oSBnokKSsZ99yDT7HXmlIK64GWNmzGpwTULv79BAPxxttdItA/5UkXsqe0ud53cmzXCpoumhzER+fLdWPKfZUq7deFCj9XwVXiAmrvcwdB04t89/1O/w1cDnyilFU=\")\n",
        "handler = WebhookHandler(\"a95c52182fdf038d8b325a54b939e824\")"
      ],
      "execution_count": 37,
      "outputs": []
    },
    {
      "cell_type": "code",
      "metadata": {
        "id": "5Ahoee1Cg8p-",
        "outputId": "c5baf8b0-0537-4b4d-e029-016734a65cfd",
        "colab": {
          "base_uri": "https://localhost:8080/"
        }
      },
      "source": [
        "!wget -O TaipeiSansTCBeta-Regular.ttf https://drive.google.com/uc?id=1eGAsTN1HBpJAkeVM57_C7ccp7hbgSz3_&export=download\n",
        "\n",
        "from urllib.request import urlopen, Request\n",
        "from bs4 import BeautifulSoup\n",
        "import pandas as pd\n",
        "import prettytable"
      ],
      "execution_count": 38,
      "outputs": [
        {
          "output_type": "stream",
          "name": "stdout",
          "text": [
            "--2021-11-07 15:03:19--  https://drive.google.com/uc?id=1eGAsTN1HBpJAkeVM57_C7ccp7hbgSz3_\n",
            "Resolving drive.google.com (drive.google.com)... 142.250.125.138, 142.250.125.100, 142.250.125.102, ...\n",
            "Connecting to drive.google.com (drive.google.com)|142.250.125.138|:443... connected.\n",
            "HTTP request sent, awaiting response... 302 Moved Temporarily\n",
            "Location: https://doc-0k-9o-docs.googleusercontent.com/docs/securesc/ha0ro937gcuc7l7deffksulhg5h7mbp1/1kiua4vo3ip0l9p23lftcdhsr3ooiids/1636297350000/02847987870453524430/*/1eGAsTN1HBpJAkeVM57_C7ccp7hbgSz3_ [following]\n",
            "Warning: wildcards not supported in HTTP.\n",
            "--2021-11-07 15:03:23--  https://doc-0k-9o-docs.googleusercontent.com/docs/securesc/ha0ro937gcuc7l7deffksulhg5h7mbp1/1kiua4vo3ip0l9p23lftcdhsr3ooiids/1636297350000/02847987870453524430/*/1eGAsTN1HBpJAkeVM57_C7ccp7hbgSz3_\n",
            "Resolving doc-0k-9o-docs.googleusercontent.com (doc-0k-9o-docs.googleusercontent.com)... 64.233.191.132, 2607:f8b0:4001:c0c::84\n",
            "Connecting to doc-0k-9o-docs.googleusercontent.com (doc-0k-9o-docs.googleusercontent.com)|64.233.191.132|:443... connected.\n",
            "HTTP request sent, awaiting response... 200 OK\n",
            "Length: 20659344 (20M) [application/x-font-ttf]\n",
            "Saving to: ‘TaipeiSansTCBeta-Regular.ttf’\n",
            "\n",
            "TaipeiSansTCBeta-Re 100%[===================>]  19.70M  --.-KB/s    in 0.1s    \n",
            "\n",
            "2021-11-07 15:03:24 (170 MB/s) - ‘TaipeiSansTCBeta-Regular.ttf’ saved [20659344/20659344]\n",
            "\n"
          ]
        }
      ]
    },
    {
      "cell_type": "code",
      "metadata": {
        "id": "TpPvtvqvgZ5w",
        "outputId": "2bbb90ed-9212-44eb-df63-2f56c647f17f",
        "colab": {
          "base_uri": "https://localhost:8080/",
          "height": 248
        }
      },
      "source": [
        "url = \"https://gas.goodlife.tw/\"\n",
        "req = Request(url,headers={\n",
        "    \"user-agent\" : \"Mozilla/5.0\"\n",
        "  })\n",
        "response = urlopen(req)\n",
        "html = BeautifulSoup(response)\n",
        "\n",
        "for i in html.find_all(\"div\",id=\"cpc\"):\n",
        "  s1 = i.find_all(\"li\")[0].find(\"h3\")\n",
        "  s1.extract()\n",
        "  s2 = i.find_all(\"li\")[1].find(\"h3\")\n",
        "  s2.extract()\n",
        "  s3 = i.find_all(\"li\")[2].find(\"h3\")\n",
        "  s3.extract()\n",
        "\n",
        "df = pd.DataFrame(columns=[\"公司\",\"92油價(每公升)\",\"95油價(每公升)\",\"98油價(每公升)\"])\n",
        "\n",
        "for i in html.find_all(\"div\",id=\"cpc\"):\n",
        "  company = i.find(\"h2\").text.replace(\"今日\", \"\")\n",
        "  price92 = i.find_all(\"li\")[0].text.replace(\"\\n\", \"\")\n",
        "  price95 = i.find_all(\"li\")[1].text.replace(\"\\n\", \"\")\n",
        "  price98 = i.find_all(\"li\")[2].text.replace(\"\\n\", \"\")\n",
        "  s = pd.Series([company,price92,price95,price98],index=[\"公司\",\"92油價(每公升)\",\"95油價(每公升)\",\"98油價(每公升)\"])\n",
        "  df = df.append(s,ignore_index=True)\n",
        "\n",
        "df.set_index(\"公司\",inplace=True)\n",
        "\n",
        "import matplotlib.pyplot as plt\n",
        "import pandas as pd\n",
        "from pandas.plotting import table\n",
        "import matplotlib as mpl\n",
        "from matplotlib.font_manager import fontManager\n",
        "\n",
        "fontManager.addfont('TaipeiSansTCBeta-Regular.ttf')\n",
        "mpl.rc('font', family='Taipei Sans TC Beta')\n",
        "plt.figure(figsize=(6,4))\n",
        "ax = plt.subplot(111, frame_on=False) # no visible frame\n",
        "ax.xaxis.set_visible(False)  # hide the x axis\n",
        "ax.yaxis.set_visible(False)  # hide the y axis\n",
        "\n",
        "table(ax, df, loc=\"center\",)  # where df is your data frame\n",
        "\n",
        "plt.savefig('./material/mytable.png')"
      ],
      "execution_count": 39,
      "outputs": [
        {
          "output_type": "display_data",
          "data": {
            "image/png": "[encoded data removed]",
            "text/plain": [
              "<Figure size 432x288 with 1 Axes>"
            ]
          },
          "metadata": {
            "needs_background": "light"
          }
        }
      ]
    },
    {
      "cell_type": "code",
      "metadata": {
        "id": "Yi7WeSCCBdnA",
        "outputId": "b3b9eee6-930e-4e02-be3f-c6df8462b5de",
        "colab": {
          "base_uri": "https://localhost:8080/"
        }
      },
      "source": [
        "!pip install pyimgur"
      ],
      "execution_count": 40,
      "outputs": [
        {
          "output_type": "stream",
          "name": "stdout",
          "text": [
            "Requirement already satisfied: pyimgur in /usr/local/lib/python3.7/dist-packages (0.6.0)\n",
            "Requirement already satisfied: requests in /usr/local/lib/python3.7/dist-packages (from pyimgur) (2.23.0)\n",
            "Requirement already satisfied: idna<3,>=2.5 in /usr/local/lib/python3.7/dist-packages (from requests->pyimgur) (2.10)\n",
            "Requirement already satisfied: chardet<4,>=3.0.2 in /usr/local/lib/python3.7/dist-packages (from requests->pyimgur) (3.0.4)\n",
            "Requirement already satisfied: certifi>=2017.4.17 in /usr/local/lib/python3.7/dist-packages (from requests->pyimgur) (2021.5.30)\n",
            "Requirement already satisfied: urllib3!=1.25.0,!=1.25.1,<1.26,>=1.21.1 in /usr/local/lib/python3.7/dist-packages (from requests->pyimgur) (1.24.3)\n"
          ]
        }
      ]
    },
    {
      "cell_type": "code",
      "metadata": {
        "id": "izA1Rw3-Bk8D"
      },
      "source": [
        "import pyimgur\n",
        "\n",
        "CLIENT_ID = \"f39377e6676d4f0\"\n",
        "PATH = \"./material/mytable.png\" #A Filepath to an image on your computer\"\n",
        "title = \"asdsada\"\n",
        "im = pyimgur.Imgur(CLIENT_ID)\n",
        "uploaded_image = im.upload_image(PATH, title=title)\n",
        "#把圖片url設為全域變數不然handler內無法取到值\n",
        "global url\n",
        "url = uploaded_image.link"
      ],
      "execution_count": 41,
      "outputs": []
    },
    {
      "cell_type": "code",
      "metadata": {
        "id": "jyIFMBi4EvTl"
      },
      "source": [
        "'''\n",
        "建置主程序的API入口\n",
        "  接受Line傳過來的消息\n",
        "  並取出消息內容\n",
        "  將消息內容存在google drive的檔案內\n",
        "  並請handler 進行消息驗證與轉發\n",
        "'''\n",
        "\n",
        "# 啟動server對外接口，使Line能丟消息進來\n",
        "@app.route(\"/\", methods=['POST'])\n",
        "def callback():\n",
        "    # get X-Line-Signature header value\n",
        "    signature = request.headers['X-Line-Signature']\n",
        "\n",
        "    # get request body as text\n",
        "    body = request.get_data(as_text=True)\n",
        "    \n",
        "    # 記錄用戶log\n",
        "    f = open(\"/content/drive/MyDrive/ai-event.log\", \"a\")\n",
        "    f.write(body)\n",
        "    f.close()\n",
        "\n",
        "    # handle webhook body\n",
        "    try:\n",
        "        handler.handle(body, signature)\n",
        "        \n",
        "    except InvalidSignatureError:\n",
        "        abort(400)\n",
        "\n",
        "    return 'OK'"
      ],
      "execution_count": 42,
      "outputs": []
    },
    {
      "cell_type": "code",
      "metadata": {
        "id": "UD_P6AenKJ4W"
      },
      "source": [
        "'''\n",
        "\n",
        "消息素材準備\n",
        "\n",
        "'''\n",
        "\n",
        "# 將消息模型，文字收取消息與文字寄發消息 引入\n",
        "from linebot.models import (\n",
        "    MessageEvent, TextMessage, TextSendMessage, ImageSendMessage\n",
        ")\n",
        "\n",
        "specific_text_message=TextSendMessage(\"官方建議，用戶以文字消息觸發特殊功能的時候，要加上特殊符號\")\n",
        "\n",
        "# analyze_truth_image_message=ImageSendMessage(\n",
        "#       original_content_url='https://i.imgur.com/M8jnn9B.png',\n",
        "#       preview_image_url='https://i.imgur.com/LtCtgg0.jpg'\n",
        "#       )\n",
        "analyze_truth_image_message=ImageSendMessage(\n",
        "  original_content_url=url,\n",
        "  preview_image_url=url\n",
        "  )\n"
      ],
      "execution_count": 43,
      "outputs": []
    },
    {
      "cell_type": "code",
      "metadata": {
        "id": "CsDjhbugRh9Z"
      },
      "source": [
        "'''\n",
        "\n",
        "設計一個字典\n",
        "    當用戶輸入相應文字消息時，系統會從此挑揀消息\n",
        "\n",
        "'''\n",
        "\n",
        "# 根據自定義菜單四張故事線的圖，設定相對應image\n",
        "template_message_dict = {\n",
        "  \"@123\":specific_text_message,\n",
        "  \"@分析的本質\": analyze_truth_image_message\n",
        "}"
      ],
      "execution_count": 44,
      "outputs": []
    },
    {
      "cell_type": "code",
      "metadata": {
        "id": "gUFnh86kQSzk"
      },
      "source": [
        "# 用戶發出文字消息時， 按條件內容, 回傳文字消息\n",
        "@handler.add(MessageEvent, message=TextMessage)\n",
        "def handle_message(event, request):\n",
        "    # if(event.message.text.find('@')!= -1):\n",
        "    #     line_bot_api.reply_message(\n",
        "    #     event.reply_token,\n",
        "    #     template_message_dict.get(event.message.text)\n",
        "    #     )\n",
        "    # else:\n",
        "    #     line_bot_api.reply_message(\n",
        "    #     event.reply_token,\n",
        "    #     TextSendMessage(text=\"字典內查無此字，請輸入@123或@分析的本質\"))\n",
        "        line_bot_api.reply_message(\n",
        "        event.reply_token,\n",
        "        template_message_dict.get(\"@分析的本質\"))"
      ],
      "execution_count": 45,
      "outputs": []
    },
    {
      "cell_type": "code",
      "metadata": {
        "id": "NVkYb65fHY9W",
        "outputId": "f282ea82-8f5b-4f12-810c-67ea8381212e",
        "colab": {
          "base_uri": "https://localhost:8080/"
        }
      },
      "source": [
        "# 主程序運行\n",
        "app.run()"
      ],
      "execution_count": 46,
      "outputs": [
        {
          "output_type": "stream",
          "name": "stdout",
          "text": [
            " * Serving Flask app \"__main__\" (lazy loading)\n",
            " * Environment: production\n",
            "\u001b[31m   WARNING: This is a development server. Do not use it in a production deployment.\u001b[0m\n",
            "\u001b[2m   Use a production WSGI server instead.\u001b[0m\n",
            " * Debug mode: off\n"
          ]
        },
        {
          "output_type": "stream",
          "name": "stderr",
          "text": [
            " * Running on http://127.0.0.1:5000/ (Press CTRL+C to quit)\n"
          ]
        },
        {
          "output_type": "stream",
          "name": "stdout",
          "text": [
            " * Running on http://49a9-35-225-247-109.ngrok.io\n",
            " * Traffic stats available on http://127.0.0.1:4040\n"
          ]
        },
        {
          "output_type": "stream",
          "name": "stderr",
          "text": [
            "127.0.0.1 - - [07/Nov/2021 15:03:53] \"\u001b[37mPOST / HTTP/1.1\u001b[0m\" 200 -\n",
            "127.0.0.1 - - [07/Nov/2021 15:04:27] \"\u001b[37mPOST / HTTP/1.1\u001b[0m\" 200 -\n",
            "127.0.0.1 - - [07/Nov/2021 15:05:14] \"\u001b[37mPOST / HTTP/1.1\u001b[0m\" 200 -\n",
            "127.0.0.1 - - [07/Nov/2021 15:05:23] \"\u001b[37mPOST / HTTP/1.1\u001b[0m\" 200 -\n"
          ]
        }
      ]
    }
  ]
}