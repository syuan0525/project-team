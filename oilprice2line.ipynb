{
  "nbformat": 4,
  "nbformat_minor": 0,
  "metadata": {
    "colab": {
      "name": "sample1",
      "provenance": [],
      "collapsed_sections": [],
      "include_colab_link": true
    },
    "kernelspec": {
      "name": "python3",
      "display_name": "Python 3"
    }
  },
  "cells": [
    {
      "cell_type": "markdown",
      "metadata": {
        "id": "view-in-github",
        "colab_type": "text"
      },
      "source": [
        "<a href=\"https://colab.research.google.com/github/syuan0525/project-team/blob/main/oilprice2line.ipynb\" target=\"_parent\"><img src=\"https://colab.research.google.com/assets/colab-badge.svg\" alt=\"Open In Colab\"/></a>"
      ]
    },
    {
      "cell_type": "code",
      "metadata": {
        "id": "ylkDvkEfEZIw"
      },
      "source": [
        "'''\n",
        "掛載Google硬碟\n",
        "安裝套件\n",
        "引用套件\n",
        "APP應用準備\n",
        "消息素材準備\n",
        "handler執行方法設計\n",
        "啟動應用\n",
        "\n",
        "\n",
        "'''"
      ],
      "execution_count": null,
      "outputs": []
    },
    {
      "cell_type": "code",
      "metadata": {
        "id": "2mDqhB78Fxp6"
      },
      "source": [
        "'''\n",
        "\n",
        "資料 mapping 至google drive\n",
        "\n",
        "把資料寫在/content/drive\n",
        "\n",
        "即可保存在 google drive內\n",
        "\n",
        "'''\n",
        "from google.colab import drive\n",
        "drive.mount('/content/drive')"
      ],
      "execution_count": null,
      "outputs": []
    },
    {
      "cell_type": "code",
      "metadata": {
        "id": "4iGRs1oYD6Ca"
      },
      "source": [
        "'''\n",
        "\n",
        "流程解析\n",
        "\n",
        "'''\n"
      ],
      "execution_count": null,
      "outputs": []
    },
    {
      "cell_type": "code",
      "metadata": {
        "id": "JyhJqq8KImyR"
      },
      "source": [
        "!pip install line-bot-sdk flask flask-ngrok"
      ],
      "execution_count": null,
      "outputs": []
    },
    {
      "cell_type": "code",
      "metadata": {
        "id": "rJDNE2TYEaYA"
      },
      "source": [
        "'''\n",
        "引用套件\n",
        "'''\n",
        "\n",
        "\n",
        "# 引用Web Server套件\n",
        "from flask import Flask, request, abort, jsonify\n",
        "\n",
        "# 載入json處理套件\n",
        "import json\n",
        "\n",
        "# 外部連結自動生成套件\n",
        "from flask_ngrok import run_with_ngrok\n",
        "\n",
        "# 從linebot 套件包裡引用 LineBotApi 與 WebhookHandler 類別\n",
        "from linebot import (\n",
        "    LineBotApi, WebhookHandler\n",
        ")\n",
        "\n",
        "# 引用無效簽章錯誤\n",
        "from linebot.exceptions import (\n",
        "    InvalidSignatureError\n",
        ")\n"
      ],
      "execution_count": null,
      "outputs": []
    },
    {
      "cell_type": "code",
      "metadata": {
        "id": "XssY97Y9Eahe"
      },
      "source": [
        "'''\n",
        "建置主程序app\n",
        "\n",
        "建置handler與 line_bot_api\n",
        "'''\n",
        "import os\n",
        "\n",
        "if not os.path.isdir(\"/content/material\"):\n",
        "    os.mkdir(\"./material\")\n",
        "# 設定Server啟用細節\n",
        "app = Flask(__name__,static_url_path = \"/material\" , static_folder = \"./material/\")\n",
        "run_with_ngrok(app)\n",
        "\n",
        "# 生成實體物件\n",
        "line_bot_api = LineBotApi(\"Xk8H4R083NV9pc4TXlel6C4/S7+eP2F2zU8IA8Ovnrjw0XhH2JPS4GraqvUKDhOA+3q+EHrSabdDHAxwupFrsSknmk3R5RITOw6zGVGwrog0THJJpp7tekxfRKtxuKC4iPcJpZ/p9Pfe0x+Bul2l9wdB04t89/1O/w1cDnyilFU=\")\n",
        "handler = WebhookHandler(\"c6b3351c6478f32ba38b299af38294c3\")"
      ],
      "execution_count": null,
      "outputs": []
    },
    {
      "cell_type": "code",
      "metadata": {
        "id": "5Ahoee1Cg8p-"
      },
      "source": [
        "!wget -O TaipeiSansTCBeta-Regular.ttf https://drive.google.com/uc?id=1eGAsTN1HBpJAkeVM57_C7ccp7hbgSz3_&export=download\n",
        "\n",
        "from urllib.request import urlopen, Request\n",
        "from bs4 import BeautifulSoup\n",
        "import pandas as pd\n",
        "import prettytable"
      ],
      "execution_count": null,
      "outputs": []
    },
    {
      "cell_type": "code",
      "metadata": {
        "id": "TpPvtvqvgZ5w"
      },
      "source": [
        "url = \"https://gas.goodlife.tw/\"\n",
        "req = Request(url,headers={\n",
        "    \"user-agent\" : \"Mozilla/5.0\"\n",
        "  })\n",
        "response = urlopen(req)\n",
        "html = BeautifulSoup(response)\n",
        "\n",
        "for i in html.find_all(\"div\",id=\"cpc\"):\n",
        "  s1 = i.find_all(\"li\")[0].find(\"h3\")\n",
        "  s1.extract()\n",
        "  s2 = i.find_all(\"li\")[1].find(\"h3\")\n",
        "  s2.extract()\n",
        "  s3 = i.find_all(\"li\")[2].find(\"h3\")\n",
        "  s3.extract()\n",
        "\n",
        "df = pd.DataFrame(columns=[\"公司\",\"92油價(每公升)\",\"95油價(每公升)\",\"98油價(每公升)\"])\n",
        "table1 = prettytable.PrettyTable([\"公司\",\"92油價(每公升)\",\"95油價(每公升)\",\"98油價(每公升)\"])\n",
        "\n",
        "for i in html.find_all(\"div\",id=\"cpc\"):\n",
        "  company = i.find(\"h2\").text\n",
        "  price92 = i.find_all(\"li\")[0].text.replace(\"\\n\", \"\")\n",
        "  price95 = i.find_all(\"li\")[1].text.replace(\"\\n\", \"\")\n",
        "  price98 = i.find_all(\"li\")[2].text.replace(\"\\n\", \"\")\n",
        "  s = pd.Series([company,price92,price95,price98],index=[\"公司\",\"92油價(每公升)\",\"95油價(每公升)\",\"98油價(每公升)\"])\n",
        "  df = df.append(s,ignore_index=True)\n",
        "  table1.add_row([company,price92,price95,price98])\n",
        "\n",
        "\n",
        "\n",
        "\n",
        "import matplotlib.pyplot as plt\n",
        "import pandas as pd\n",
        "from pandas.plotting import table\n",
        "import matplotlib as mpl\n",
        "from matplotlib.font_manager import fontManager\n",
        "\n",
        "fontManager.addfont('TaipeiSansTCBeta-Regular.ttf')\n",
        "mpl.rc('font', family='Taipei Sans TC Beta')\n",
        "plt.figure(figsize=(6,4))\n",
        "ax = plt.subplot(111, frame_on=False) # no visible frame\n",
        "ax.xaxis.set_visible(False)  # hide the x axis\n",
        "ax.yaxis.set_visible(False)  # hide the y axis\n",
        "\n",
        "table(ax, df)  # where df is your data frame\n",
        "\n",
        "plt.savefig('./material/mytable.png')"
      ],
      "execution_count": null,
      "outputs": []
    },
    {
      "cell_type": "code",
      "metadata": {
        "id": "Yi7WeSCCBdnA"
      },
      "source": [
        "!pip install pyimgur"
      ],
      "execution_count": null,
      "outputs": []
    },
    {
      "cell_type": "code",
      "metadata": {
        "id": "izA1Rw3-Bk8D"
      },
      "source": [
        "import pyimgur\n",
        "\n",
        "CLIENT_ID = \"f39377e6676d4f0\"\n",
        "PATH = \"./material/mytable.png\" #A Filepath to an image on your computer\"\n",
        "title = \"asdsada\"\n",
        "im = pyimgur.Imgur(CLIENT_ID)\n",
        "uploaded_image = im.upload_image(PATH, title=title)\n",
        "#把圖片url設為全域變數不然handler內無法取到值\n",
        "global url\n",
        "url = uploaded_image.link"
      ],
      "execution_count": null,
      "outputs": []
    },
    {
      "cell_type": "code",
      "metadata": {
        "id": "jyIFMBi4EvTl"
      },
      "source": [
        "'''\n",
        "建置主程序的API入口\n",
        "  接受Line傳過來的消息\n",
        "  並取出消息內容\n",
        "  將消息內容存在google drive的檔案內\n",
        "  並請handler 進行消息驗證與轉發\n",
        "'''\n",
        "\n",
        "# 啟動server對外接口，使Line能丟消息進來\n",
        "@app.route(\"/\", methods=['POST'])\n",
        "def callback():\n",
        "    # get X-Line-Signature header value\n",
        "    signature = request.headers['X-Line-Signature']\n",
        "\n",
        "    # get request body as text\n",
        "    body = request.get_data(as_text=True)\n",
        "    \n",
        "    # 記錄用戶log\n",
        "    f = open(\"/content/drive/MyDrive/ai-event.log\", \"a\")\n",
        "    f.write(body)\n",
        "    f.close()\n",
        "\n",
        "    # handle webhook body\n",
        "    try:\n",
        "        handler.handle(body, signature)\n",
        "        \n",
        "    except InvalidSignatureError:\n",
        "        abort(400)\n",
        "\n",
        "    return 'OK'"
      ],
      "execution_count": null,
      "outputs": []
    },
    {
      "cell_type": "code",
      "metadata": {
        "id": "UD_P6AenKJ4W"
      },
      "source": [
        "'''\n",
        "\n",
        "消息素材準備\n",
        "\n",
        "'''\n",
        "\n",
        "# 將消息模型，文字收取消息與文字寄發消息 引入\n",
        "from linebot.models import (\n",
        "    MessageEvent, TextMessage, TextSendMessage, ImageSendMessage\n",
        ")\n",
        "\n",
        "specific_text_message=TextSendMessage(\"官方建議，用戶以文字消息觸發特殊功能的時候，要加上特殊符號\")\n",
        "\n",
        "# analyze_truth_image_message=ImageSendMessage(\n",
        "#       original_content_url='https://i.imgur.com/M8jnn9B.png',\n",
        "#       preview_image_url='https://i.imgur.com/LtCtgg0.jpg'\n",
        "#       )\n",
        "analyze_truth_image_message=ImageSendMessage(\n",
        "  original_content_url=url,\n",
        "  preview_image_url=url\n",
        "  )\n"
      ],
      "execution_count": null,
      "outputs": []
    },
    {
      "cell_type": "code",
      "metadata": {
        "id": "CsDjhbugRh9Z"
      },
      "source": [
        "'''\n",
        "\n",
        "設計一個字典\n",
        "    當用戶輸入相應文字消息時，系統會從此挑揀消息\n",
        "\n",
        "'''\n",
        "\n",
        "# 根據自定義菜單四張故事線的圖，設定相對應image\n",
        "template_message_dict = {\n",
        "  \"@123\":specific_text_message,\n",
        "  \"@分析的本質\": analyze_truth_image_message\n",
        "}"
      ],
      "execution_count": null,
      "outputs": []
    },
    {
      "cell_type": "code",
      "metadata": {
        "id": "gUFnh86kQSzk"
      },
      "source": [
        "# 用戶發出文字消息時， 按條件內容, 回傳文字消息\n",
        "@handler.add(MessageEvent, message=TextMessage)\n",
        "def handle_message(event, request):\n",
        "    # if(event.message.text.find('@')!= -1):\n",
        "    #     line_bot_api.reply_message(\n",
        "    #     event.reply_token,\n",
        "    #     template_message_dict.get(event.message.text)\n",
        "    #     )\n",
        "    # else:\n",
        "    #     line_bot_api.reply_message(\n",
        "    #     event.reply_token,\n",
        "    #     TextSendMessage(text=\"字典內查無此字，請輸入@123或@分析的本質\"))\n",
        "        line_bot_api.reply_message(\n",
        "        event.reply_token,\n",
        "        template_message_dict.get(\"@分析的本質\"))"
      ],
      "execution_count": null,
      "outputs": []
    },
    {
      "cell_type": "code",
      "metadata": {
        "id": "NVkYb65fHY9W"
      },
      "source": [
        "# 主程序運行\n",
        "app.run()"
      ],
      "execution_count": null,
      "outputs": []
    }
  ]
}