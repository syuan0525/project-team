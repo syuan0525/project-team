{
  "nbformat": 4,
  "nbformat_minor": 0,
  "metadata": {
    "colab": {
      "name": "LIneBot_menu.ipynb",
      "provenance": [],
      "authorship_tag": "ABX9TyNxBZSdHTX2fsjdvcRnhHkN",
      "include_colab_link": true
    },
    "kernelspec": {
      "name": "python3",
      "display_name": "Python 3"
    },
    "language_info": {
      "name": "python"
    }
  },
  "cells": [
    {
      "cell_type": "markdown",
      "metadata": {
        "id": "view-in-github",
        "colab_type": "text"
      },
      "source": [
        "<a href=\"https://colab.research.google.com/github/syuan0525/project-team/blob/main/LIneBot_menu.ipynb\" target=\"_parent\"><img src=\"https://colab.research.google.com/assets/colab-badge.svg\" alt=\"Open In Colab\"/></a>"
      ]
    },
    {
      "cell_type": "code",
      "metadata": {
        "id": "vcNsHGlInzZf",
        "outputId": "f15da30c-2d12-4f6b-d5bf-92d36da10d39",
        "colab": {
          "base_uri": "https://localhost:8080/"
        }
      },
      "source": [
        "!pip install line-bot-sdk"
      ],
      "execution_count": 1,
      "outputs": [
        {
          "output_type": "stream",
          "name": "stdout",
          "text": [
            "Collecting line-bot-sdk\n",
            "  Downloading line_bot_sdk-2.0.1-py2.py3-none-any.whl (83 kB)\n",
            "\u001b[?25l\r\u001b[K     |████                            | 10 kB 20.7 MB/s eta 0:00:01\r\u001b[K     |███████▉                        | 20 kB 24.5 MB/s eta 0:00:01\r\u001b[K     |███████████▊                    | 30 kB 18.1 MB/s eta 0:00:01\r\u001b[K     |███████████████▊                | 40 kB 12.9 MB/s eta 0:00:01\r\u001b[K     |███████████████████▋            | 51 kB 7.5 MB/s eta 0:00:01\r\u001b[K     |███████████████████████▌        | 61 kB 7.9 MB/s eta 0:00:01\r\u001b[K     |███████████████████████████▌    | 71 kB 6.6 MB/s eta 0:00:01\r\u001b[K     |███████████████████████████████▍| 81 kB 7.2 MB/s eta 0:00:01\r\u001b[K     |████████████████████████████████| 83 kB 1.3 MB/s \n",
            "\u001b[?25hRequirement already satisfied: future in /usr/local/lib/python3.7/dist-packages (from line-bot-sdk) (0.16.0)\n",
            "Requirement already satisfied: requests>=2.0 in /usr/local/lib/python3.7/dist-packages (from line-bot-sdk) (2.23.0)\n",
            "Collecting aiohttp>=3.7.4\n",
            "  Downloading aiohttp-3.8.0-cp37-cp37m-manylinux_2_5_x86_64.manylinux1_x86_64.manylinux_2_12_x86_64.manylinux2010_x86_64.whl (1.1 MB)\n",
            "\u001b[K     |████████████████████████████████| 1.1 MB 18.5 MB/s \n",
            "\u001b[?25hCollecting asynctest==0.13.0\n",
            "  Downloading asynctest-0.13.0-py3-none-any.whl (26 kB)\n",
            "Collecting frozenlist>=1.1.1\n",
            "  Downloading frozenlist-1.2.0-cp37-cp37m-manylinux_2_5_x86_64.manylinux1_x86_64.manylinux_2_12_x86_64.manylinux2010_x86_64.whl (192 kB)\n",
            "\u001b[K     |████████████████████████████████| 192 kB 50.6 MB/s \n",
            "\u001b[?25hCollecting aiosignal>=1.1.2\n",
            "  Downloading aiosignal-1.2.0-py3-none-any.whl (8.2 kB)\n",
            "Requirement already satisfied: attrs>=17.3.0 in /usr/local/lib/python3.7/dist-packages (from aiohttp>=3.7.4->line-bot-sdk) (21.2.0)\n",
            "Requirement already satisfied: typing-extensions>=3.7.4 in /usr/local/lib/python3.7/dist-packages (from aiohttp>=3.7.4->line-bot-sdk) (3.7.4.3)\n",
            "Requirement already satisfied: charset-normalizer<3.0,>=2.0 in /usr/local/lib/python3.7/dist-packages (from aiohttp>=3.7.4->line-bot-sdk) (2.0.7)\n",
            "Collecting async-timeout<5.0,>=4.0.0a3\n",
            "  Downloading async_timeout-4.0.0-py3-none-any.whl (6.1 kB)\n",
            "Collecting multidict<7.0,>=4.5\n",
            "  Downloading multidict-5.2.0-cp37-cp37m-manylinux_2_5_x86_64.manylinux1_x86_64.manylinux_2_12_x86_64.manylinux2010_x86_64.whl (160 kB)\n",
            "\u001b[K     |████████████████████████████████| 160 kB 51.4 MB/s \n",
            "\u001b[?25hCollecting yarl<2.0,>=1.0\n",
            "  Downloading yarl-1.7.2-cp37-cp37m-manylinux_2_5_x86_64.manylinux1_x86_64.manylinux_2_12_x86_64.manylinux2010_x86_64.whl (271 kB)\n",
            "\u001b[K     |████████████████████████████████| 271 kB 44.5 MB/s \n",
            "\u001b[?25hRequirement already satisfied: certifi>=2017.4.17 in /usr/local/lib/python3.7/dist-packages (from requests>=2.0->line-bot-sdk) (2021.5.30)\n",
            "Requirement already satisfied: urllib3!=1.25.0,!=1.25.1,<1.26,>=1.21.1 in /usr/local/lib/python3.7/dist-packages (from requests>=2.0->line-bot-sdk) (1.24.3)\n",
            "Requirement already satisfied: idna<3,>=2.5 in /usr/local/lib/python3.7/dist-packages (from requests>=2.0->line-bot-sdk) (2.10)\n",
            "Requirement already satisfied: chardet<4,>=3.0.2 in /usr/local/lib/python3.7/dist-packages (from requests>=2.0->line-bot-sdk) (3.0.4)\n",
            "Installing collected packages: multidict, frozenlist, yarl, asynctest, async-timeout, aiosignal, aiohttp, line-bot-sdk\n",
            "Successfully installed aiohttp-3.8.0 aiosignal-1.2.0 async-timeout-4.0.0 asynctest-0.13.0 frozenlist-1.2.0 line-bot-sdk-2.0.1 multidict-5.2.0 yarl-1.7.2\n"
          ]
        }
      ]
    },
    {
      "cell_type": "code",
      "metadata": {
        "id": "2DNMr02h-TAA"
      },
      "source": [
        "menuRawData1=\"\"\"\n",
        "{\n",
        "  \"size\": {\n",
        "    \"width\": 2500,\n",
        "    \"height\": 1686\n",
        "  },\n",
        "  \"selected\": true,\n",
        "  \"name\": \"主頁\",\n",
        "  \"chatBarText\": \"機車小幫手\",\n",
        "  \"areas\": [\n",
        "    {\n",
        "      \"bounds\": {\n",
        "        \"x\": 82,\n",
        "        \"y\": 252,\n",
        "        \"width\": 969,\n",
        "        \"height\": 979\n",
        "      },\n",
        "      \"action\": {\n",
        "        \"type\": \"message\",\n",
        "        \"text\": \"@車款辨識\"\n",
        "      }\n",
        "    },\n",
        "    {\n",
        "      \"bounds\": {\n",
        "        \"x\": 1129,\n",
        "        \"y\": 107,\n",
        "        \"width\": 586,\n",
        "        \"height\": 571\n",
        "      },\n",
        "      \"action\": {\n",
        "        \"type\": \"message\",\n",
        "        \"text\": \"@即時油價\"\n",
        "      }\n",
        "    },\n",
        "    {\n",
        "      \"bounds\": {\n",
        "        \"x\": 1807,\n",
        "        \"y\": 107,\n",
        "        \"width\": 567,\n",
        "        \"height\": 581\n",
        "      },\n",
        "      \"action\": {\n",
        "        \"type\": \"message\",\n",
        "        \"text\": \"@知識補帖\"\n",
        "      }\n",
        "    },\n",
        "    {\n",
        "      \"bounds\": {\n",
        "        \"x\": 1133,\n",
        "        \"y\": 876,\n",
        "        \"width\": 587,\n",
        "        \"height\": 571\n",
        "      },\n",
        "      \"action\": {\n",
        "        \"type\": \"message\",\n",
        "        \"text\": \"@專屬推薦\"\n",
        "      }\n",
        "    },\n",
        "    {\n",
        "      \"bounds\": {\n",
        "        \"x\": 1802,\n",
        "        \"y\": 856,\n",
        "        \"width\": 591,\n",
        "        \"height\": 601\n",
        "      },\n",
        "      \"action\": {\n",
        "        \"type\": \"message\",\n",
        "        \"text\": \"@最新資訊\"\n",
        "      }\n",
        "    }\n",
        "  ]\n",
        "}\n",
        "\"\"\""
      ],
      "execution_count": 2,
      "outputs": []
    },
    {
      "cell_type": "code",
      "metadata": {
        "id": "fDl2L2Vq-67H"
      },
      "source": [
        "menuRawData2=\"\"\"\n",
        "{\n",
        "  \"size\": {\n",
        "    \"width\": 2500,\n",
        "    \"height\": 1686\n",
        "  },\n",
        "  \"selected\": false,\n",
        "  \"name\": \"機車知識大補帖\",\n",
        "  \"chatBarText\": \"機車知識大補帖\",\n",
        "  \"areas\": [\n",
        "    {\n",
        "      \"bounds\": {\n",
        "        \"x\": 39,\n",
        "        \"y\": 1326,\n",
        "        \"width\": 353,\n",
        "        \"height\": 329\n",
        "      },\n",
        "      \"action\": {\n",
        "        \"type\": \"message\",\n",
        "        \"text\": \"@HOME\"\n",
        "      }\n",
        "    },\n",
        "    {\n",
        "      \"bounds\": {\n",
        "        \"x\": 945,\n",
        "        \"y\": 78,\n",
        "        \"width\": 625,\n",
        "        \"height\": 629\n",
        "      },\n",
        "      \"action\": {\n",
        "        \"type\": \"message\",\n",
        "        \"text\": \"@購車補助\"\n",
        "      }\n",
        "    },\n",
        "    {\n",
        "      \"bounds\": {\n",
        "        \"x\": 1710,\n",
        "        \"y\": 63,\n",
        "        \"width\": 635,\n",
        "        \"height\": 640\n",
        "      },\n",
        "      \"action\": {\n",
        "        \"type\": \"message\",\n",
        "        \"text\": \"@銷售排行\"\n",
        "      }\n",
        "    },\n",
        "    {\n",
        "      \"bounds\": {\n",
        "        \"x\": 950,\n",
        "        \"y\": 841,\n",
        "        \"width\": 629,\n",
        "        \"height\": 664\n",
        "      },\n",
        "      \"action\": {\n",
        "        \"type\": \"message\",\n",
        "        \"text\": \"@煞車比較\"\n",
        "      }\n",
        "    },\n",
        "    {\n",
        "      \"bounds\": {\n",
        "        \"x\": 1705,\n",
        "        \"y\": 856,\n",
        "        \"width\": 640,\n",
        "        \"height\": 649\n",
        "      },\n",
        "      \"action\": {\n",
        "        \"type\": \"message\",\n",
        "        \"text\": \"@意外保險\"\n",
        "      }\n",
        "    }\n",
        "  ]\n",
        "}\n",
        "\"\"\""
      ],
      "execution_count": 3,
      "outputs": []
    },
    {
      "cell_type": "code",
      "metadata": {
        "id": "wxRQHaCHAhAy"
      },
      "source": [
        "menuRawData3=\"\"\"\n",
        "{\n",
        "  \"size\": {\n",
        "    \"width\": 2500,\n",
        "    \"height\": 1686\n",
        "  },\n",
        "  \"selected\": false,\n",
        "  \"name\": \"各大品牌最新資訊\",\n",
        "  \"chatBarText\": \"最新資訊\",\n",
        "  \"areas\": [\n",
        "    {\n",
        "      \"bounds\": {\n",
        "        \"x\": 2112,\n",
        "        \"y\": 58,\n",
        "        \"width\": 340,\n",
        "        \"height\": 330\n",
        "      },\n",
        "      \"action\": {\n",
        "        \"type\": \"message\",\n",
        "        \"text\": \"@HOME\"\n",
        "      }\n",
        "    },\n",
        "    {\n",
        "      \"bounds\": {\n",
        "        \"x\": 276,\n",
        "        \"y\": 427,\n",
        "        \"width\": 562,\n",
        "        \"height\": 542\n",
        "      },\n",
        "      \"action\": {\n",
        "        \"type\": \"uri\",\n",
        "        \"uri\": \"https://www.kymco.com.tw/news\"\n",
        "      }\n",
        "    },\n",
        "    {\n",
        "      \"bounds\": {\n",
        "        \"x\": 969,\n",
        "        \"y\": 426,\n",
        "        \"width\": 557,\n",
        "        \"height\": 558\n",
        "      },\n",
        "      \"action\": {\n",
        "        \"type\": \"uri\",\n",
        "        \"uri\": \"https://tw.sym-global.com/newslist-55\"\n",
        "      }\n",
        "    },\n",
        "    {\n",
        "      \"bounds\": {\n",
        "        \"x\": 1667,\n",
        "        \"y\": 417,\n",
        "        \"width\": 542,\n",
        "        \"height\": 552\n",
        "      },\n",
        "      \"action\": {\n",
        "        \"type\": \"uri\",\n",
        "        \"uri\": \"https://www.yamaha-motor.com.tw/news/promoList.aspx\"\n",
        "      }\n",
        "    },\n",
        "    {\n",
        "      \"bounds\": {\n",
        "        \"x\": 286,\n",
        "        \"y\": 1011,\n",
        "        \"width\": 567,\n",
        "        \"height\": 567\n",
        "      },\n",
        "      \"action\": {\n",
        "        \"type\": \"uri\",\n",
        "        \"uri\": \"https://pgo.com.tw/category/promotions/\"\n",
        "      }\n",
        "    },\n",
        "    {\n",
        "      \"bounds\": {\n",
        "        \"x\": 959,\n",
        "        \"y\": 1021,\n",
        "        \"width\": 567,\n",
        "        \"height\": 533\n",
        "      },\n",
        "      \"action\": {\n",
        "        \"type\": \"uri\",\n",
        "        \"uri\": \"https://www.aeonmotor.com.tw/news/?kind=12\"\n",
        "      }\n",
        "    },\n",
        "    {\n",
        "      \"bounds\": {\n",
        "        \"x\": 1657,\n",
        "        \"y\": 1016,\n",
        "        \"width\": 572,\n",
        "        \"height\": 562\n",
        "      },\n",
        "      \"action\": {\n",
        "        \"type\": \"uri\",\n",
        "        \"uri\": \"https://promotion.gogoro.com/tw/\"\n",
        "      }\n",
        "    }\n",
        "  ]\n",
        "}\n",
        "\"\"\" "
      ],
      "execution_count": 4,
      "outputs": []
    },
    {
      "cell_type": "code",
      "metadata": {
        "id": "k1brEX4pn8w4"
      },
      "source": [
        "from linebot import (\n",
        "    LineBotApi, WebhookHandler\n",
        ")\n",
        "\n",
        "line_bot_api = LineBotApi(\"fe9W+98abzzGHvjleSYFDLWQYEVgSPeDzwiitTXPNcDZa+oSBnokKSsZ99yDT7HXmlIK64GWNmzGpwTULv79BAPxxttdItA/5UkXsqe0ud53cmzXCpoumhzER+fLdWPKfZUq7deFCj9XwVXiAmrvcwdB04t89/1O/w1cDnyilFU=\")"
      ],
      "execution_count": 5,
      "outputs": []
    },
    {
      "cell_type": "code",
      "metadata": {
        "id": "cHwOWER-oFIj",
        "outputId": "7872fb46-5a7a-40d0-f233-805b39e96503",
        "colab": {
          "base_uri": "https://localhost:8080/"
        }
      },
      "source": [
        "from linebot.models import RichMenu\n",
        "import requests\n",
        "import json\n",
        "\n",
        "menuJson=json.loads(menuRawData1)\n",
        "\n",
        "lineRichMenuId = line_bot_api.create_rich_menu(rich_menu=RichMenu.new_from_json_dict(menuJson))\n",
        "print(lineRichMenuId)"
      ],
      "execution_count": 7,
      "outputs": [
        {
          "output_type": "stream",
          "name": "stdout",
          "text": [
            "richmenu-860801e58ea09cd8eb663bc090901a59\n"
          ]
        }
      ]
    },
    {
      "cell_type": "code",
      "metadata": {
        "id": "OxSTNDsAoYoO",
        "outputId": "3458cdbf-3311-497b-c21f-ddbdcd492299",
        "colab": {
          "base_uri": "https://localhost:8080/"
        }
      },
      "source": [
        "uploadImageFile=open(\"主頁.jpg\",'rb')\n",
        "\n",
        "setImageResponse = line_bot_api.set_rich_menu_image(lineRichMenuId,'image/jpeg',uploadImageFile)\n",
        "\n",
        "print(setImageResponse)"
      ],
      "execution_count": 8,
      "outputs": [
        {
          "output_type": "stream",
          "name": "stdout",
          "text": [
            "None\n"
          ]
        }
      ]
    },
    {
      "cell_type": "code",
      "metadata": {
        "id": "LY_VrxjiqlVg",
        "outputId": "89e322fe-7781-4eaa-d8f9-7afe368c6481",
        "colab": {
          "base_uri": "https://localhost:8080/"
        }
      },
      "source": [
        "'''\n",
        "\n",
        "檢視帳號內，有哪些選單\n",
        "    要求line_bot_api，向line查詢我方的圖文選單列表\n",
        "    打印\n",
        "\n",
        "'''\n",
        "\n",
        "rich_menu_list = line_bot_api.get_rich_menu_list()\n",
        "for rich_menu in rich_menu_list:\n",
        "    print(rich_menu.rich_menu_id)"
      ],
      "execution_count": 9,
      "outputs": [
        {
          "output_type": "stream",
          "name": "stdout",
          "text": [
            "richmenu-66790fa3563d55d65b74701e07da68ff\n",
            "richmenu-6bc9cefd1e2069efc38717da563c4aeb\n",
            "richmenu-860801e58ea09cd8eb663bc090901a59\n",
            "richmenu-efc259cfef923c18205831afcec975cf\n"
          ]
        }
      ]
    },
    {
      "cell_type": "code",
      "metadata": {
        "id": "zkcd60iUqkOe"
      },
      "source": [
        "'''\n",
        "\n",
        "刪除圖文選單\n",
        "\n",
        "'''\n",
        "line_bot_api.delete_rich_menu(\"richmenu-860801e58ea09cd8eb663bc090901a59\")"
      ],
      "execution_count": 12,
      "outputs": []
    },
    {
      "cell_type": "code",
      "metadata": {
        "id": "ix72XtlusP7x",
        "outputId": "fe09693c-c6c0-424f-e895-71776b8905f5",
        "colab": {
          "base_uri": "https://localhost:8080/"
        }
      },
      "source": [
        "rich_menu_list = line_bot_api.get_rich_menu_list()\n",
        "for rich_menu in rich_menu_list:\n",
        "    print(rich_menu.rich_menu_id)"
      ],
      "execution_count": 13,
      "outputs": [
        {
          "output_type": "stream",
          "name": "stdout",
          "text": [
            "richmenu-66790fa3563d55d65b74701e07da68ff\n",
            "richmenu-6bc9cefd1e2069efc38717da563c4aeb\n",
            "richmenu-efc259cfef923c18205831afcec975cf\n"
          ]
        }
      ]
    }
  ]
}