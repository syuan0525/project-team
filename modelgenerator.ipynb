{
  "nbformat": 4,
  "nbformat_minor": 0,
  "metadata": {
    "colab": {
      "name": "transfer_mobilenet_scooter1103.ipynb",
      "provenance": [],
      "include_colab_link": true
    },
    "kernelspec": {
      "name": "python3",
      "display_name": "Python 3"
    },
    "language_info": {
      "name": "python"
    }
  },
  "cells": [
    {
      "cell_type": "markdown",
      "metadata": {
        "id": "view-in-github",
        "colab_type": "text"
      },
      "source": [
        "<a href=\"https://colab.research.google.com/github/syuan0525/project-team/blob/main/modelgenerator.ipynb\" target=\"_parent\"><img src=\"https://colab.research.google.com/assets/colab-badge.svg\" alt=\"Open In Colab\"/></a>"
      ]
    },
    {
      "cell_type": "code",
      "metadata": {
        "colab": {
          "base_uri": "https://localhost:8080/"
        },
        "id": "c9ewqU0peqyR",
        "outputId": "b54e1207-2c05-4c93-aaa8-7da769f47d04"
      },
      "source": [
        "from google.colab import drive\n",
        "drive.mount('/content/drive')"
      ],
      "execution_count": 54,
      "outputs": [
        {
          "output_type": "stream",
          "name": "stdout",
          "text": [
            "Drive already mounted at /content/drive; to attempt to forcibly remount, call drive.mount(\"/content/drive\", force_remount=True).\n"
          ]
        }
      ]
    },
    {
      "cell_type": "code",
      "metadata": {
        "id": "nFyk74EJerre"
      },
      "source": [
        "import glob\n",
        "import os\n",
        "os.chdir(\"/content/drive/MyDrive/Tebame_第四組_機車辨識\")"
      ],
      "execution_count": 55,
      "outputs": []
    },
    {
      "cell_type": "code",
      "metadata": {
        "id": "s-pQ8eVYfx64"
      },
      "source": [
        "# 600以上 : S2、GP、KRV、FIDDLE、SR、活力、新名流、DRG、新迪爵、LIMI、六代勁戰\n",
        "s2 = glob.glob(\"./裁剪照片(不含不用裁的)/GOGORO_S2_裁/*.jpg\") \n",
        "\n",
        "gp = glob.glob(\"./裁剪照片(不含不用裁的)/KYMCO_GP_125_裁/*\") \n",
        "\n",
        "krv = glob.glob(\"./裁剪照片(不含不用裁的)/KYMCO_KRV_裁/*\")\n",
        "\n",
        "fiddle = glob.glob(\"./裁剪照片(不含不用裁的)/SYM_FIDDLE_125_裁/*\") \n",
        "\n",
        "sr = glob.glob(\"./裁剪照片(不含不用裁的)/SYM_JET_SR_125_裁/*\")\n",
        "\n",
        "vivo = glob.glob(\"./裁剪照片(不含不用裁的)/SYM_活力_125_裁/*\")\n",
        "\n",
        "famous = glob.glob(\"./裁剪照片(不含不用裁的)/KYMCO_新名流125_裁/*\")\n",
        "\n",
        "drg = glob.glob(\"./裁剪照片(不含不用裁的)/SYM_DRG_裁/*\") \n",
        "\n",
        "duke = glob.glob(\"./裁剪照片(不含不用裁的)/SYM_新迪爵_125 _裁/*\")\n",
        "\n",
        "limi = glob.glob(\"./裁剪照片(不含不用裁的)/YAMAHA_LIMI_125_已裁減/*\")\n",
        "\n",
        "gryphus6 = glob.glob(\"./裁剪照片(不含不用裁的)/YAMAHA_六代勁戰_125_裁/*\")\n",
        "# [\"s2\", \"gp\", \"krv_x\", \"fiddle\", \"sr_x\", \"vivo\", \"famous\", \"drg\", \"duke\", \"limi\", \"gryphus6\""
      ],
      "execution_count": 56,
      "outputs": []
    },
    {
      "cell_type": "code",
      "metadata": {
        "colab": {
          "base_uri": "https://localhost:8080/",
          "height": 418
        },
        "id": "Pl53TRPmf2Bb",
        "outputId": "dc52d388-f142-443a-c6e8-a22b7e62c259"
      },
      "source": [
        "import pandas as pd\n",
        "df = pd.DataFrame({\n",
        "    \"path\": s2 + gp + krv + fiddle + sr + vivo + famous + drg + duke + limi + gryphus6,\n",
        "    \"ans\": [0] * len(s2) + [1] * len(gp) + [2] * len(krv) + [3] * len(fiddle) + [4] * len(sr) + [5] * len(vivo) + [6] * len(famous)\n",
        "    + [7] * len(drg) + [8] * len(duke) + [9] * len(limi) + [10] * len(gryphus6)\n",
        "})\n",
        "df"
      ],
      "execution_count": 59,
      "outputs": [
        {
          "output_type": "execute_result",
          "data": {
            "text/html": [
              "<div>\n",
              "<style scoped>\n",
              "    .dataframe tbody tr th:only-of-type {\n",
              "        vertical-align: middle;\n",
              "    }\n",
              "\n",
              "    .dataframe tbody tr th {\n",
              "        vertical-align: top;\n",
              "    }\n",
              "\n",
              "    .dataframe thead th {\n",
              "        text-align: right;\n",
              "    }\n",
              "</style>\n",
              "<table border=\"1\" class=\"dataframe\">\n",
              "  <thead>\n",
              "    <tr style=\"text-align: right;\">\n",
              "      <th></th>\n",
              "      <th>path</th>\n",
              "      <th>ans</th>\n",
              "    </tr>\n",
              "  </thead>\n",
              "  <tbody>\n",
              "    <tr>\n",
              "      <th>0</th>\n",
              "      <td>./裁剪照片(不含不用裁的)/GOGORO_S2_裁/0.jpg</td>\n",
              "      <td>0</td>\n",
              "    </tr>\n",
              "    <tr>\n",
              "      <th>1</th>\n",
              "      <td>./裁剪照片(不含不用裁的)/GOGORO_S2_裁/1.jpg</td>\n",
              "      <td>0</td>\n",
              "    </tr>\n",
              "    <tr>\n",
              "      <th>2</th>\n",
              "      <td>./裁剪照片(不含不用裁的)/GOGORO_S2_裁/3.jpg</td>\n",
              "      <td>0</td>\n",
              "    </tr>\n",
              "    <tr>\n",
              "      <th>3</th>\n",
              "      <td>./裁剪照片(不含不用裁的)/GOGORO_S2_裁/4.jpg</td>\n",
              "      <td>0</td>\n",
              "    </tr>\n",
              "    <tr>\n",
              "      <th>4</th>\n",
              "      <td>./裁剪照片(不含不用裁的)/GOGORO_S2_裁/5.jpg</td>\n",
              "      <td>0</td>\n",
              "    </tr>\n",
              "    <tr>\n",
              "      <th>...</th>\n",
              "      <td>...</td>\n",
              "      <td>...</td>\n",
              "    </tr>\n",
              "    <tr>\n",
              "      <th>4047</th>\n",
              "      <td>./裁剪照片(不含不用裁的)/YAMAHA_六代勁戰_125_裁/1635242123753...</td>\n",
              "      <td>10</td>\n",
              "    </tr>\n",
              "    <tr>\n",
              "      <th>4048</th>\n",
              "      <td>./裁剪照片(不含不用裁的)/YAMAHA_六代勁戰_125_裁/1635242132239...</td>\n",
              "      <td>10</td>\n",
              "    </tr>\n",
              "    <tr>\n",
              "      <th>4049</th>\n",
              "      <td>./裁剪照片(不含不用裁的)/YAMAHA_六代勁戰_125_裁/1635242140840...</td>\n",
              "      <td>10</td>\n",
              "    </tr>\n",
              "    <tr>\n",
              "      <th>4050</th>\n",
              "      <td>./裁剪照片(不含不用裁的)/YAMAHA_六代勁戰_125_裁/1635242150895...</td>\n",
              "      <td>10</td>\n",
              "    </tr>\n",
              "    <tr>\n",
              "      <th>4051</th>\n",
              "      <td>./裁剪照片(不含不用裁的)/YAMAHA_六代勁戰_125_裁/1635242158605...</td>\n",
              "      <td>10</td>\n",
              "    </tr>\n",
              "  </tbody>\n",
              "</table>\n",
              "<p>4052 rows × 2 columns</p>\n",
              "</div>"
            ],
            "text/plain": [
              "                                                   path  ans\n",
              "0                      ./裁剪照片(不含不用裁的)/GOGORO_S2_裁/0.jpg    0\n",
              "1                      ./裁剪照片(不含不用裁的)/GOGORO_S2_裁/1.jpg    0\n",
              "2                      ./裁剪照片(不含不用裁的)/GOGORO_S2_裁/3.jpg    0\n",
              "3                      ./裁剪照片(不含不用裁的)/GOGORO_S2_裁/4.jpg    0\n",
              "4                      ./裁剪照片(不含不用裁的)/GOGORO_S2_裁/5.jpg    0\n",
              "...                                                 ...  ...\n",
              "4047  ./裁剪照片(不含不用裁的)/YAMAHA_六代勁戰_125_裁/1635242123753...   10\n",
              "4048  ./裁剪照片(不含不用裁的)/YAMAHA_六代勁戰_125_裁/1635242132239...   10\n",
              "4049  ./裁剪照片(不含不用裁的)/YAMAHA_六代勁戰_125_裁/1635242140840...   10\n",
              "4050  ./裁剪照片(不含不用裁的)/YAMAHA_六代勁戰_125_裁/1635242150895...   10\n",
              "4051  ./裁剪照片(不含不用裁的)/YAMAHA_六代勁戰_125_裁/1635242158605...   10\n",
              "\n",
              "[4052 rows x 2 columns]"
            ]
          },
          "metadata": {},
          "execution_count": 59
        }
      ]
    },
    {
      "cell_type": "code",
      "metadata": {
        "colab": {
          "base_uri": "https://localhost:8080/"
        },
        "id": "Frro9tMbkgUO",
        "outputId": "38f048e4-597a-4331-944d-88c9ac09d1c9"
      },
      "source": [
        "from tensorflow.keras.applications.mobilenet import MobileNet\n",
        "mobilenet = MobileNet(\n",
        "    input_shape=(224, 224, 3), include_top=False, weights='imagenet'\n",
        ")\n",
        "mobilenet.summary()"
      ],
      "execution_count": 60,
      "outputs": [
        {
          "output_type": "stream",
          "name": "stdout",
          "text": [
            "Model: \"mobilenet_1.00_224\"\n",
            "_________________________________________________________________\n",
            "Layer (type)                 Output Shape              Param #   \n",
            "=================================================================\n",
            "input_2 (InputLayer)         [(None, 224, 224, 3)]     0         \n",
            "_________________________________________________________________\n",
            "conv1 (Conv2D)               (None, 112, 112, 32)      864       \n",
            "_________________________________________________________________\n",
            "conv1_bn (BatchNormalization (None, 112, 112, 32)      128       \n",
            "_________________________________________________________________\n",
            "conv1_relu (ReLU)            (None, 112, 112, 32)      0         \n",
            "_________________________________________________________________\n",
            "conv_dw_1 (DepthwiseConv2D)  (None, 112, 112, 32)      288       \n",
            "_________________________________________________________________\n",
            "conv_dw_1_bn (BatchNormaliza (None, 112, 112, 32)      128       \n",
            "_________________________________________________________________\n",
            "conv_dw_1_relu (ReLU)        (None, 112, 112, 32)      0         \n",
            "_________________________________________________________________\n",
            "conv_pw_1 (Conv2D)           (None, 112, 112, 64)      2048      \n",
            "_________________________________________________________________\n",
            "conv_pw_1_bn (BatchNormaliza (None, 112, 112, 64)      256       \n",
            "_________________________________________________________________\n",
            "conv_pw_1_relu (ReLU)        (None, 112, 112, 64)      0         \n",
            "_________________________________________________________________\n",
            "conv_pad_2 (ZeroPadding2D)   (None, 113, 113, 64)      0         \n",
            "_________________________________________________________________\n",
            "conv_dw_2 (DepthwiseConv2D)  (None, 56, 56, 64)        576       \n",
            "_________________________________________________________________\n",
            "conv_dw_2_bn (BatchNormaliza (None, 56, 56, 64)        256       \n",
            "_________________________________________________________________\n",
            "conv_dw_2_relu (ReLU)        (None, 56, 56, 64)        0         \n",
            "_________________________________________________________________\n",
            "conv_pw_2 (Conv2D)           (None, 56, 56, 128)       8192      \n",
            "_________________________________________________________________\n",
            "conv_pw_2_bn (BatchNormaliza (None, 56, 56, 128)       512       \n",
            "_________________________________________________________________\n",
            "conv_pw_2_relu (ReLU)        (None, 56, 56, 128)       0         \n",
            "_________________________________________________________________\n",
            "conv_dw_3 (DepthwiseConv2D)  (None, 56, 56, 128)       1152      \n",
            "_________________________________________________________________\n",
            "conv_dw_3_bn (BatchNormaliza (None, 56, 56, 128)       512       \n",
            "_________________________________________________________________\n",
            "conv_dw_3_relu (ReLU)        (None, 56, 56, 128)       0         \n",
            "_________________________________________________________________\n",
            "conv_pw_3 (Conv2D)           (None, 56, 56, 128)       16384     \n",
            "_________________________________________________________________\n",
            "conv_pw_3_bn (BatchNormaliza (None, 56, 56, 128)       512       \n",
            "_________________________________________________________________\n",
            "conv_pw_3_relu (ReLU)        (None, 56, 56, 128)       0         \n",
            "_________________________________________________________________\n",
            "conv_pad_4 (ZeroPadding2D)   (None, 57, 57, 128)       0         \n",
            "_________________________________________________________________\n",
            "conv_dw_4 (DepthwiseConv2D)  (None, 28, 28, 128)       1152      \n",
            "_________________________________________________________________\n",
            "conv_dw_4_bn (BatchNormaliza (None, 28, 28, 128)       512       \n",
            "_________________________________________________________________\n",
            "conv_dw_4_relu (ReLU)        (None, 28, 28, 128)       0         \n",
            "_________________________________________________________________\n",
            "conv_pw_4 (Conv2D)           (None, 28, 28, 256)       32768     \n",
            "_________________________________________________________________\n",
            "conv_pw_4_bn (BatchNormaliza (None, 28, 28, 256)       1024      \n",
            "_________________________________________________________________\n",
            "conv_pw_4_relu (ReLU)        (None, 28, 28, 256)       0         \n",
            "_________________________________________________________________\n",
            "conv_dw_5 (DepthwiseConv2D)  (None, 28, 28, 256)       2304      \n",
            "_________________________________________________________________\n",
            "conv_dw_5_bn (BatchNormaliza (None, 28, 28, 256)       1024      \n",
            "_________________________________________________________________\n",
            "conv_dw_5_relu (ReLU)        (None, 28, 28, 256)       0         \n",
            "_________________________________________________________________\n",
            "conv_pw_5 (Conv2D)           (None, 28, 28, 256)       65536     \n",
            "_________________________________________________________________\n",
            "conv_pw_5_bn (BatchNormaliza (None, 28, 28, 256)       1024      \n",
            "_________________________________________________________________\n",
            "conv_pw_5_relu (ReLU)        (None, 28, 28, 256)       0         \n",
            "_________________________________________________________________\n",
            "conv_pad_6 (ZeroPadding2D)   (None, 29, 29, 256)       0         \n",
            "_________________________________________________________________\n",
            "conv_dw_6 (DepthwiseConv2D)  (None, 14, 14, 256)       2304      \n",
            "_________________________________________________________________\n",
            "conv_dw_6_bn (BatchNormaliza (None, 14, 14, 256)       1024      \n",
            "_________________________________________________________________\n",
            "conv_dw_6_relu (ReLU)        (None, 14, 14, 256)       0         \n",
            "_________________________________________________________________\n",
            "conv_pw_6 (Conv2D)           (None, 14, 14, 512)       131072    \n",
            "_________________________________________________________________\n",
            "conv_pw_6_bn (BatchNormaliza (None, 14, 14, 512)       2048      \n",
            "_________________________________________________________________\n",
            "conv_pw_6_relu (ReLU)        (None, 14, 14, 512)       0         \n",
            "_________________________________________________________________\n",
            "conv_dw_7 (DepthwiseConv2D)  (None, 14, 14, 512)       4608      \n",
            "_________________________________________________________________\n",
            "conv_dw_7_bn (BatchNormaliza (None, 14, 14, 512)       2048      \n",
            "_________________________________________________________________\n",
            "conv_dw_7_relu (ReLU)        (None, 14, 14, 512)       0         \n",
            "_________________________________________________________________\n",
            "conv_pw_7 (Conv2D)           (None, 14, 14, 512)       262144    \n",
            "_________________________________________________________________\n",
            "conv_pw_7_bn (BatchNormaliza (None, 14, 14, 512)       2048      \n",
            "_________________________________________________________________\n",
            "conv_pw_7_relu (ReLU)        (None, 14, 14, 512)       0         \n",
            "_________________________________________________________________\n",
            "conv_dw_8 (DepthwiseConv2D)  (None, 14, 14, 512)       4608      \n",
            "_________________________________________________________________\n",
            "conv_dw_8_bn (BatchNormaliza (None, 14, 14, 512)       2048      \n",
            "_________________________________________________________________\n",
            "conv_dw_8_relu (ReLU)        (None, 14, 14, 512)       0         \n",
            "_________________________________________________________________\n",
            "conv_pw_8 (Conv2D)           (None, 14, 14, 512)       262144    \n",
            "_________________________________________________________________\n",
            "conv_pw_8_bn (BatchNormaliza (None, 14, 14, 512)       2048      \n",
            "_________________________________________________________________\n",
            "conv_pw_8_relu (ReLU)        (None, 14, 14, 512)       0         \n",
            "_________________________________________________________________\n",
            "conv_dw_9 (DepthwiseConv2D)  (None, 14, 14, 512)       4608      \n",
            "_________________________________________________________________\n",
            "conv_dw_9_bn (BatchNormaliza (None, 14, 14, 512)       2048      \n",
            "_________________________________________________________________\n",
            "conv_dw_9_relu (ReLU)        (None, 14, 14, 512)       0         \n",
            "_________________________________________________________________\n",
            "conv_pw_9 (Conv2D)           (None, 14, 14, 512)       262144    \n",
            "_________________________________________________________________\n",
            "conv_pw_9_bn (BatchNormaliza (None, 14, 14, 512)       2048      \n",
            "_________________________________________________________________\n",
            "conv_pw_9_relu (ReLU)        (None, 14, 14, 512)       0         \n",
            "_________________________________________________________________\n",
            "conv_dw_10 (DepthwiseConv2D) (None, 14, 14, 512)       4608      \n",
            "_________________________________________________________________\n",
            "conv_dw_10_bn (BatchNormaliz (None, 14, 14, 512)       2048      \n",
            "_________________________________________________________________\n",
            "conv_dw_10_relu (ReLU)       (None, 14, 14, 512)       0         \n",
            "_________________________________________________________________\n",
            "conv_pw_10 (Conv2D)          (None, 14, 14, 512)       262144    \n",
            "_________________________________________________________________\n",
            "conv_pw_10_bn (BatchNormaliz (None, 14, 14, 512)       2048      \n",
            "_________________________________________________________________\n",
            "conv_pw_10_relu (ReLU)       (None, 14, 14, 512)       0         \n",
            "_________________________________________________________________\n",
            "conv_dw_11 (DepthwiseConv2D) (None, 14, 14, 512)       4608      \n",
            "_________________________________________________________________\n",
            "conv_dw_11_bn (BatchNormaliz (None, 14, 14, 512)       2048      \n",
            "_________________________________________________________________\n",
            "conv_dw_11_relu (ReLU)       (None, 14, 14, 512)       0         \n",
            "_________________________________________________________________\n",
            "conv_pw_11 (Conv2D)          (None, 14, 14, 512)       262144    \n",
            "_________________________________________________________________\n",
            "conv_pw_11_bn (BatchNormaliz (None, 14, 14, 512)       2048      \n",
            "_________________________________________________________________\n",
            "conv_pw_11_relu (ReLU)       (None, 14, 14, 512)       0         \n",
            "_________________________________________________________________\n",
            "conv_pad_12 (ZeroPadding2D)  (None, 15, 15, 512)       0         \n",
            "_________________________________________________________________\n",
            "conv_dw_12 (DepthwiseConv2D) (None, 7, 7, 512)         4608      \n",
            "_________________________________________________________________\n",
            "conv_dw_12_bn (BatchNormaliz (None, 7, 7, 512)         2048      \n",
            "_________________________________________________________________\n",
            "conv_dw_12_relu (ReLU)       (None, 7, 7, 512)         0         \n",
            "_________________________________________________________________\n",
            "conv_pw_12 (Conv2D)          (None, 7, 7, 1024)        524288    \n",
            "_________________________________________________________________\n",
            "conv_pw_12_bn (BatchNormaliz (None, 7, 7, 1024)        4096      \n",
            "_________________________________________________________________\n",
            "conv_pw_12_relu (ReLU)       (None, 7, 7, 1024)        0         \n",
            "_________________________________________________________________\n",
            "conv_dw_13 (DepthwiseConv2D) (None, 7, 7, 1024)        9216      \n",
            "_________________________________________________________________\n",
            "conv_dw_13_bn (BatchNormaliz (None, 7, 7, 1024)        4096      \n",
            "_________________________________________________________________\n",
            "conv_dw_13_relu (ReLU)       (None, 7, 7, 1024)        0         \n",
            "_________________________________________________________________\n",
            "conv_pw_13 (Conv2D)          (None, 7, 7, 1024)        1048576   \n",
            "_________________________________________________________________\n",
            "conv_pw_13_bn (BatchNormaliz (None, 7, 7, 1024)        4096      \n",
            "_________________________________________________________________\n",
            "conv_pw_13_relu (ReLU)       (None, 7, 7, 1024)        0         \n",
            "=================================================================\n",
            "Total params: 3,228,864\n",
            "Trainable params: 3,206,976\n",
            "Non-trainable params: 21,888\n",
            "_________________________________________________________________\n"
          ]
        }
      ]
    },
    {
      "cell_type": "code",
      "metadata": {
        "colab": {
          "base_uri": "https://localhost:8080/"
        },
        "id": "Mj2JqzO5lrUV",
        "outputId": "87535452-30c0-4d2a-a710-c933a4d119b4"
      },
      "source": [
        "from tensorflow.keras.models import Sequential\n",
        "from tensorflow.keras.layers import GlobalAveragePooling2D, Dense, BatchNormalization, Dropout\n",
        "mobilenet.layers"
      ],
      "execution_count": 61,
      "outputs": [
        {
          "output_type": "execute_result",
          "data": {
            "text/plain": [
              "[<keras.engine.input_layer.InputLayer at 0x7fac88873410>,\n",
              " <keras.layers.convolutional.Conv2D at 0x7fac156bf790>,\n",
              " <keras.layers.normalization.batch_normalization.BatchNormalization at 0x7fac156aff10>,\n",
              " <keras.layers.advanced_activations.ReLU at 0x7fac155e5ad0>,\n",
              " <keras.layers.convolutional.DepthwiseConv2D at 0x7fac15527450>,\n",
              " <keras.layers.normalization.batch_normalization.BatchNormalization at 0x7fac1573bb90>,\n",
              " <keras.layers.advanced_activations.ReLU at 0x7fac15533a50>,\n",
              " <keras.layers.convolutional.Conv2D at 0x7fac15537c90>,\n",
              " <keras.layers.normalization.batch_normalization.BatchNormalization at 0x7fac154bfa50>,\n",
              " <keras.layers.advanced_activations.ReLU at 0x7fac15537310>,\n",
              " <keras.layers.convolutional.ZeroPadding2D at 0x7fac1553c950>,\n",
              " <keras.layers.convolutional.DepthwiseConv2D at 0x7fac154c8550>,\n",
              " <keras.layers.normalization.batch_normalization.BatchNormalization at 0x7fac154d2fd0>,\n",
              " <keras.layers.advanced_activations.ReLU at 0x7fac154c8dd0>,\n",
              " <keras.layers.convolutional.Conv2D at 0x7fac154d6d50>,\n",
              " <keras.layers.normalization.batch_normalization.BatchNormalization at 0x7fac154e3810>,\n",
              " <keras.layers.advanced_activations.ReLU at 0x7fac154dd390>,\n",
              " <keras.layers.convolutional.DepthwiseConv2D at 0x7fac154c8e90>,\n",
              " <keras.layers.normalization.batch_normalization.BatchNormalization at 0x7fac154f2410>,\n",
              " <keras.layers.advanced_activations.ReLU at 0x7fac154eb390>,\n",
              " <keras.layers.convolutional.Conv2D at 0x7fac154e7550>,\n",
              " <keras.layers.normalization.batch_normalization.BatchNormalization at 0x7fac154fcad0>,\n",
              " <keras.layers.advanced_activations.ReLU at 0x7fac15483850>,\n",
              " <keras.layers.convolutional.ZeroPadding2D at 0x7fac1547f290>,\n",
              " <keras.layers.convolutional.DepthwiseConv2D at 0x7fac154e3110>,\n",
              " <keras.layers.normalization.batch_normalization.BatchNormalization at 0x7fac154d63d0>,\n",
              " <keras.layers.advanced_activations.ReLU at 0x7fac15527550>,\n",
              " <keras.layers.convolutional.Conv2D at 0x7fac1553cb10>,\n",
              " <keras.layers.normalization.batch_normalization.BatchNormalization at 0x7fac1548c6d0>,\n",
              " <keras.layers.advanced_activations.ReLU at 0x7fac15492390>,\n",
              " <keras.layers.convolutional.DepthwiseConv2D at 0x7fac15492510>,\n",
              " <keras.layers.normalization.batch_normalization.BatchNormalization at 0x7fac1549c450>,\n",
              " <keras.layers.advanced_activations.ReLU at 0x7fac1549dfd0>,\n",
              " <keras.layers.convolutional.Conv2D at 0x7fac154a6110>,\n",
              " <keras.layers.normalization.batch_normalization.BatchNormalization at 0x7fac15496550>,\n",
              " <keras.layers.advanced_activations.ReLU at 0x7fac154b0750>,\n",
              " <keras.layers.convolutional.ZeroPadding2D at 0x7fac154bbd10>,\n",
              " <keras.layers.convolutional.DepthwiseConv2D at 0x7fac154b0ed0>,\n",
              " <keras.layers.normalization.batch_normalization.BatchNormalization at 0x7fac154b02d0>,\n",
              " <keras.layers.advanced_activations.ReLU at 0x7fac15446310>,\n",
              " <keras.layers.convolutional.Conv2D at 0x7fac15449750>,\n",
              " <keras.layers.normalization.batch_normalization.BatchNormalization at 0x7fac154b0f90>,\n",
              " <keras.layers.advanced_activations.ReLU at 0x7fac15452ad0>,\n",
              " <keras.layers.convolutional.DepthwiseConv2D at 0x7fac154584d0>,\n",
              " <keras.layers.normalization.batch_normalization.BatchNormalization at 0x7fac15442310>,\n",
              " <keras.layers.advanced_activations.ReLU at 0x7fac154607d0>,\n",
              " <keras.layers.convolutional.Conv2D at 0x7fac154658d0>,\n",
              " <keras.layers.normalization.batch_normalization.BatchNormalization at 0x7fac1546bdd0>,\n",
              " <keras.layers.advanced_activations.ReLU at 0x7fac15460110>,\n",
              " <keras.layers.convolutional.DepthwiseConv2D at 0x7fac1546f810>,\n",
              " <keras.layers.normalization.batch_normalization.BatchNormalization at 0x7fac1547e990>,\n",
              " <keras.layers.advanced_activations.ReLU at 0x7fac1547e390>,\n",
              " <keras.layers.convolutional.Conv2D at 0x7fac15402150>,\n",
              " <keras.layers.normalization.batch_normalization.BatchNormalization at 0x7fac1540c7d0>,\n",
              " <keras.layers.advanced_activations.ReLU at 0x7fac15412e90>,\n",
              " <keras.layers.convolutional.DepthwiseConv2D at 0x7fac15406a90>,\n",
              " <keras.layers.normalization.batch_normalization.BatchNormalization at 0x7fac154063d0>,\n",
              " <keras.layers.advanced_activations.ReLU at 0x7fac1541fb90>,\n",
              " <keras.layers.convolutional.Conv2D at 0x7fac1541f450>,\n",
              " <keras.layers.normalization.batch_normalization.BatchNormalization at 0x7fac1542bc50>,\n",
              " <keras.layers.advanced_activations.ReLU at 0x7fac15434390>,\n",
              " <keras.layers.convolutional.DepthwiseConv2D at 0x7fac154385d0>,\n",
              " <keras.layers.normalization.batch_normalization.BatchNormalization at 0x7fac15438550>,\n",
              " <keras.layers.advanced_activations.ReLU at 0x7fac153c54d0>,\n",
              " <keras.layers.convolutional.Conv2D at 0x7fac153c8750>,\n",
              " <keras.layers.normalization.batch_normalization.BatchNormalization at 0x7fac15438950>,\n",
              " <keras.layers.advanced_activations.ReLU at 0x7fac1541f8d0>,\n",
              " <keras.layers.convolutional.DepthwiseConv2D at 0x7fac15402c50>,\n",
              " <keras.layers.normalization.batch_normalization.BatchNormalization at 0x7fac1542d450>,\n",
              " <keras.layers.advanced_activations.ReLU at 0x7fac1547e2d0>,\n",
              " <keras.layers.convolutional.Conv2D at 0x7fac154423d0>,\n",
              " <keras.layers.normalization.batch_normalization.BatchNormalization at 0x7fac15458e50>,\n",
              " <keras.layers.advanced_activations.ReLU at 0x7fac1543c150>,\n",
              " <keras.layers.convolutional.ZeroPadding2D at 0x7fac1541c810>,\n",
              " <keras.layers.convolutional.DepthwiseConv2D at 0x7fac15496810>,\n",
              " <keras.layers.normalization.batch_normalization.BatchNormalization at 0x7fac154c9ed0>,\n",
              " <keras.layers.advanced_activations.ReLU at 0x7fac1549d110>,\n",
              " <keras.layers.convolutional.Conv2D at 0x7fac15488750>,\n",
              " <keras.layers.normalization.batch_normalization.BatchNormalization at 0x7fac153d7310>,\n",
              " <keras.layers.advanced_activations.ReLU at 0x7fac153d67d0>,\n",
              " <keras.layers.convolutional.DepthwiseConv2D at 0x7fac153d9190>,\n",
              " <keras.layers.normalization.batch_normalization.BatchNormalization at 0x7fac153d9a90>,\n",
              " <keras.layers.advanced_activations.ReLU at 0x7fac153e6ad0>,\n",
              " <keras.layers.convolutional.Conv2D at 0x7fac153dc4d0>,\n",
              " <keras.layers.normalization.batch_normalization.BatchNormalization at 0x7fac153ee150>,\n",
              " <keras.layers.advanced_activations.ReLU at 0x7fac153f4850>]"
            ]
          },
          "metadata": {},
          "execution_count": 61
        }
      ]
    },
    {
      "cell_type": "code",
      "metadata": {
        "colab": {
          "base_uri": "https://localhost:8080/"
        },
        "id": "djveQ15ClzZP",
        "outputId": "17fc774d-ba25-4d8f-9b1c-882eed9a41d9"
      },
      "source": [
        "for l in mobilenet.layers:\n",
        "  l.trainable = False  # cnn 已經是訓練好的了，所以先凍住cnn的參數 ，只訓練後面的mlp的參數 # 要在 compile 前設\n",
        "\n",
        "layers = [\n",
        "          BatchNormalization(),\n",
        "          GlobalAveragePooling2D(),\n",
        "          Dropout(0.25),\n",
        "          # Dense(256, activation=\"relu\"),\n",
        "          Dense(11, activation=\"softmax\")\n",
        "]\n",
        "model = Sequential(mobilenet.layers + layers) \n",
        "model.summary()"
      ],
      "execution_count": 62,
      "outputs": [
        {
          "output_type": "stream",
          "name": "stdout",
          "text": [
            "Model: \"sequential_1\"\n",
            "_________________________________________________________________\n",
            "Layer (type)                 Output Shape              Param #   \n",
            "=================================================================\n",
            "conv1 (Conv2D)               (None, 112, 112, 32)      864       \n",
            "_________________________________________________________________\n",
            "conv1_bn (BatchNormalization (None, 112, 112, 32)      128       \n",
            "_________________________________________________________________\n",
            "conv1_relu (ReLU)            (None, 112, 112, 32)      0         \n",
            "_________________________________________________________________\n",
            "conv_dw_1 (DepthwiseConv2D)  (None, 112, 112, 32)      288       \n",
            "_________________________________________________________________\n",
            "conv_dw_1_bn (BatchNormaliza (None, 112, 112, 32)      128       \n",
            "_________________________________________________________________\n",
            "conv_dw_1_relu (ReLU)        (None, 112, 112, 32)      0         \n",
            "_________________________________________________________________\n",
            "conv_pw_1 (Conv2D)           (None, 112, 112, 64)      2048      \n",
            "_________________________________________________________________\n",
            "conv_pw_1_bn (BatchNormaliza (None, 112, 112, 64)      256       \n",
            "_________________________________________________________________\n",
            "conv_pw_1_relu (ReLU)        (None, 112, 112, 64)      0         \n",
            "_________________________________________________________________\n",
            "conv_pad_2 (ZeroPadding2D)   (None, 113, 113, 64)      0         \n",
            "_________________________________________________________________\n",
            "conv_dw_2 (DepthwiseConv2D)  (None, 56, 56, 64)        576       \n",
            "_________________________________________________________________\n",
            "conv_dw_2_bn (BatchNormaliza (None, 56, 56, 64)        256       \n",
            "_________________________________________________________________\n",
            "conv_dw_2_relu (ReLU)        (None, 56, 56, 64)        0         \n",
            "_________________________________________________________________\n",
            "conv_pw_2 (Conv2D)           (None, 56, 56, 128)       8192      \n",
            "_________________________________________________________________\n",
            "conv_pw_2_bn (BatchNormaliza (None, 56, 56, 128)       512       \n",
            "_________________________________________________________________\n",
            "conv_pw_2_relu (ReLU)        (None, 56, 56, 128)       0         \n",
            "_________________________________________________________________\n",
            "conv_dw_3 (DepthwiseConv2D)  (None, 56, 56, 128)       1152      \n",
            "_________________________________________________________________\n",
            "conv_dw_3_bn (BatchNormaliza (None, 56, 56, 128)       512       \n",
            "_________________________________________________________________\n",
            "conv_dw_3_relu (ReLU)        (None, 56, 56, 128)       0         \n",
            "_________________________________________________________________\n",
            "conv_pw_3 (Conv2D)           (None, 56, 56, 128)       16384     \n",
            "_________________________________________________________________\n",
            "conv_pw_3_bn (BatchNormaliza (None, 56, 56, 128)       512       \n",
            "_________________________________________________________________\n",
            "conv_pw_3_relu (ReLU)        (None, 56, 56, 128)       0         \n",
            "_________________________________________________________________\n",
            "conv_pad_4 (ZeroPadding2D)   (None, 57, 57, 128)       0         \n",
            "_________________________________________________________________\n",
            "conv_dw_4 (DepthwiseConv2D)  (None, 28, 28, 128)       1152      \n",
            "_________________________________________________________________\n",
            "conv_dw_4_bn (BatchNormaliza (None, 28, 28, 128)       512       \n",
            "_________________________________________________________________\n",
            "conv_dw_4_relu (ReLU)        (None, 28, 28, 128)       0         \n",
            "_________________________________________________________________\n",
            "conv_pw_4 (Conv2D)           (None, 28, 28, 256)       32768     \n",
            "_________________________________________________________________\n",
            "conv_pw_4_bn (BatchNormaliza (None, 28, 28, 256)       1024      \n",
            "_________________________________________________________________\n",
            "conv_pw_4_relu (ReLU)        (None, 28, 28, 256)       0         \n",
            "_________________________________________________________________\n",
            "conv_dw_5 (DepthwiseConv2D)  (None, 28, 28, 256)       2304      \n",
            "_________________________________________________________________\n",
            "conv_dw_5_bn (BatchNormaliza (None, 28, 28, 256)       1024      \n",
            "_________________________________________________________________\n",
            "conv_dw_5_relu (ReLU)        (None, 28, 28, 256)       0         \n",
            "_________________________________________________________________\n",
            "conv_pw_5 (Conv2D)           (None, 28, 28, 256)       65536     \n",
            "_________________________________________________________________\n",
            "conv_pw_5_bn (BatchNormaliza (None, 28, 28, 256)       1024      \n",
            "_________________________________________________________________\n",
            "conv_pw_5_relu (ReLU)        (None, 28, 28, 256)       0         \n",
            "_________________________________________________________________\n",
            "conv_pad_6 (ZeroPadding2D)   (None, 29, 29, 256)       0         \n",
            "_________________________________________________________________\n",
            "conv_dw_6 (DepthwiseConv2D)  (None, 14, 14, 256)       2304      \n",
            "_________________________________________________________________\n",
            "conv_dw_6_bn (BatchNormaliza (None, 14, 14, 256)       1024      \n",
            "_________________________________________________________________\n",
            "conv_dw_6_relu (ReLU)        (None, 14, 14, 256)       0         \n",
            "_________________________________________________________________\n",
            "conv_pw_6 (Conv2D)           (None, 14, 14, 512)       131072    \n",
            "_________________________________________________________________\n",
            "conv_pw_6_bn (BatchNormaliza (None, 14, 14, 512)       2048      \n",
            "_________________________________________________________________\n",
            "conv_pw_6_relu (ReLU)        (None, 14, 14, 512)       0         \n",
            "_________________________________________________________________\n",
            "conv_dw_7 (DepthwiseConv2D)  (None, 14, 14, 512)       4608      \n",
            "_________________________________________________________________\n",
            "conv_dw_7_bn (BatchNormaliza (None, 14, 14, 512)       2048      \n",
            "_________________________________________________________________\n",
            "conv_dw_7_relu (ReLU)        (None, 14, 14, 512)       0         \n",
            "_________________________________________________________________\n",
            "conv_pw_7 (Conv2D)           (None, 14, 14, 512)       262144    \n",
            "_________________________________________________________________\n",
            "conv_pw_7_bn (BatchNormaliza (None, 14, 14, 512)       2048      \n",
            "_________________________________________________________________\n",
            "conv_pw_7_relu (ReLU)        (None, 14, 14, 512)       0         \n",
            "_________________________________________________________________\n",
            "conv_dw_8 (DepthwiseConv2D)  (None, 14, 14, 512)       4608      \n",
            "_________________________________________________________________\n",
            "conv_dw_8_bn (BatchNormaliza (None, 14, 14, 512)       2048      \n",
            "_________________________________________________________________\n",
            "conv_dw_8_relu (ReLU)        (None, 14, 14, 512)       0         \n",
            "_________________________________________________________________\n",
            "conv_pw_8 (Conv2D)           (None, 14, 14, 512)       262144    \n",
            "_________________________________________________________________\n",
            "conv_pw_8_bn (BatchNormaliza (None, 14, 14, 512)       2048      \n",
            "_________________________________________________________________\n",
            "conv_pw_8_relu (ReLU)        (None, 14, 14, 512)       0         \n",
            "_________________________________________________________________\n",
            "conv_dw_9 (DepthwiseConv2D)  (None, 14, 14, 512)       4608      \n",
            "_________________________________________________________________\n",
            "conv_dw_9_bn (BatchNormaliza (None, 14, 14, 512)       2048      \n",
            "_________________________________________________________________\n",
            "conv_dw_9_relu (ReLU)        (None, 14, 14, 512)       0         \n",
            "_________________________________________________________________\n",
            "conv_pw_9 (Conv2D)           (None, 14, 14, 512)       262144    \n",
            "_________________________________________________________________\n",
            "conv_pw_9_bn (BatchNormaliza (None, 14, 14, 512)       2048      \n",
            "_________________________________________________________________\n",
            "conv_pw_9_relu (ReLU)        (None, 14, 14, 512)       0         \n",
            "_________________________________________________________________\n",
            "conv_dw_10 (DepthwiseConv2D) (None, 14, 14, 512)       4608      \n",
            "_________________________________________________________________\n",
            "conv_dw_10_bn (BatchNormaliz (None, 14, 14, 512)       2048      \n",
            "_________________________________________________________________\n",
            "conv_dw_10_relu (ReLU)       (None, 14, 14, 512)       0         \n",
            "_________________________________________________________________\n",
            "conv_pw_10 (Conv2D)          (None, 14, 14, 512)       262144    \n",
            "_________________________________________________________________\n",
            "conv_pw_10_bn (BatchNormaliz (None, 14, 14, 512)       2048      \n",
            "_________________________________________________________________\n",
            "conv_pw_10_relu (ReLU)       (None, 14, 14, 512)       0         \n",
            "_________________________________________________________________\n",
            "conv_dw_11 (DepthwiseConv2D) (None, 14, 14, 512)       4608      \n",
            "_________________________________________________________________\n",
            "conv_dw_11_bn (BatchNormaliz (None, 14, 14, 512)       2048      \n",
            "_________________________________________________________________\n",
            "conv_dw_11_relu (ReLU)       (None, 14, 14, 512)       0         \n",
            "_________________________________________________________________\n",
            "conv_pw_11 (Conv2D)          (None, 14, 14, 512)       262144    \n",
            "_________________________________________________________________\n",
            "conv_pw_11_bn (BatchNormaliz (None, 14, 14, 512)       2048      \n",
            "_________________________________________________________________\n",
            "conv_pw_11_relu (ReLU)       (None, 14, 14, 512)       0         \n",
            "_________________________________________________________________\n",
            "conv_pad_12 (ZeroPadding2D)  (None, 15, 15, 512)       0         \n",
            "_________________________________________________________________\n",
            "conv_dw_12 (DepthwiseConv2D) (None, 7, 7, 512)         4608      \n",
            "_________________________________________________________________\n",
            "conv_dw_12_bn (BatchNormaliz (None, 7, 7, 512)         2048      \n",
            "_________________________________________________________________\n",
            "conv_dw_12_relu (ReLU)       (None, 7, 7, 512)         0         \n",
            "_________________________________________________________________\n",
            "conv_pw_12 (Conv2D)          (None, 7, 7, 1024)        524288    \n",
            "_________________________________________________________________\n",
            "conv_pw_12_bn (BatchNormaliz (None, 7, 7, 1024)        4096      \n",
            "_________________________________________________________________\n",
            "conv_pw_12_relu (ReLU)       (None, 7, 7, 1024)        0         \n",
            "_________________________________________________________________\n",
            "conv_dw_13 (DepthwiseConv2D) (None, 7, 7, 1024)        9216      \n",
            "_________________________________________________________________\n",
            "conv_dw_13_bn (BatchNormaliz (None, 7, 7, 1024)        4096      \n",
            "_________________________________________________________________\n",
            "conv_dw_13_relu (ReLU)       (None, 7, 7, 1024)        0         \n",
            "_________________________________________________________________\n",
            "conv_pw_13 (Conv2D)          (None, 7, 7, 1024)        1048576   \n",
            "_________________________________________________________________\n",
            "conv_pw_13_bn (BatchNormaliz (None, 7, 7, 1024)        4096      \n",
            "_________________________________________________________________\n",
            "conv_pw_13_relu (ReLU)       (None, 7, 7, 1024)        0         \n",
            "_________________________________________________________________\n",
            "batch_normalization_1 (Batch (None, 7, 7, 1024)        4096      \n",
            "_________________________________________________________________\n",
            "global_average_pooling2d_1 ( (None, 1024)              0         \n",
            "_________________________________________________________________\n",
            "dropout_1 (Dropout)          (None, 1024)              0         \n",
            "_________________________________________________________________\n",
            "dense_1 (Dense)              (None, 11)                11275     \n",
            "=================================================================\n",
            "Total params: 3,244,235\n",
            "Trainable params: 13,323\n",
            "Non-trainable params: 3,230,912\n",
            "_________________________________________________________________\n"
          ]
        }
      ]
    },
    {
      "cell_type": "code",
      "metadata": {
        "id": "nxGL-LZWmXbB"
      },
      "source": [
        "from tensorflow.keras.losses import SparseCategoricalCrossentropy\n",
        "model.compile(\n",
        "        loss=SparseCategoricalCrossentropy(),\n",
        "        optimizer=\"adam\",\n",
        "        metrics=[\"acc\"]\n",
        ")"
      ],
      "execution_count": 63,
      "outputs": []
    },
    {
      "cell_type": "code",
      "metadata": {
        "colab": {
          "base_uri": "https://localhost:8080/",
          "height": 1000
        },
        "id": "bM-sEb99o4SQ",
        "outputId": "3e3832bd-7985-4458-f43b-9b130068baf7"
      },
      "source": [
        "import random\n",
        "import matplotlib.pyplot as plt\n",
        "from PIL import Image\n",
        "import numpy as np\n",
        "# import 匯入 當初預處理的方式\n",
        "from tensorflow.keras.applications.mobilenet import preprocess_input \n",
        "p = df[\"path\"]\n",
        "# print(len(p))\n",
        "idx = random.randint(0, len(p)-1)\n",
        "img = Image.open(p[idx]).resize((224, 224)).convert(\"RGB\")\n",
        "img_np = np.array(img)\n",
        "\n",
        "img_np_pre = preprocess_input(img_np)\n",
        "print(img_np_pre)\n",
        "plt.imshow(img)"
      ],
      "execution_count": 64,
      "outputs": [
        {
          "output_type": "stream",
          "name": "stdout",
          "text": [
            "[[[-0.41176468 -0.38039213 -0.38823527]\n",
            "  [-0.45098037 -0.41960782 -0.44313723]\n",
            "  [-0.4352941  -0.41176468 -0.41960782]\n",
            "  ...\n",
            "  [-0.25490195 -0.25490195 -0.2235294 ]\n",
            "  [-0.25490195 -0.24705881 -0.21568626]\n",
            "  [-0.27058822 -0.23137254 -0.20784312]]\n",
            "\n",
            " [[-0.41960782 -0.38823527 -0.3960784 ]\n",
            "  [-0.46666664 -0.4352941  -0.4588235 ]\n",
            "  [-0.46666664 -0.44313723 -0.45098037]\n",
            "  ...\n",
            "  [-0.03529412 -0.03529412 -0.01176471]\n",
            "  [-0.16862744 -0.1607843  -0.12941176]\n",
            "  [-0.27843136 -0.24705881 -0.2235294 ]]\n",
            "\n",
            " [[-0.4823529  -0.46666664 -0.47450978]\n",
            "  [-0.52156866 -0.5137255  -0.5137255 ]\n",
            "  [-0.41176468 -0.41176468 -0.41960782]\n",
            "  ...\n",
            "  [ 0.0196079   0.05098045  0.07450986]\n",
            "  [-0.09019607 -0.06666666 -0.04313725]\n",
            "  [-0.29411763 -0.26274508 -0.23921567]]\n",
            "\n",
            " ...\n",
            "\n",
            " [[ 0.6784314   0.67058825  0.6392157 ]\n",
            "  [ 0.6627451   0.6627451   0.6313726 ]\n",
            "  [ 0.6313726   0.6392157   0.6       ]\n",
            "  ...\n",
            "  [ 0.5764706   0.56078434  0.5058824 ]\n",
            "  [ 0.5921569   0.58431375  0.5294118 ]\n",
            "  [ 0.58431375  0.58431375  0.5294118 ]]\n",
            "\n",
            " [[ 0.69411767  0.6862745   0.654902  ]\n",
            "  [ 0.67058825  0.6784314   0.6392157 ]\n",
            "  [ 0.64705884  0.654902    0.6156863 ]\n",
            "  ...\n",
            "  [ 0.5529412   0.54509807  0.48235297]\n",
            "  [ 0.56078434  0.56078434  0.5058824 ]\n",
            "  [ 0.54509807  0.5372549   0.4901961 ]]\n",
            "\n",
            " [[ 0.6784314   0.67058825  0.6392157 ]\n",
            "  [ 0.67058825  0.6784314   0.6392157 ]\n",
            "  [ 0.6392157   0.64705884  0.60784316]\n",
            "  ...\n",
            "  [ 0.5529412   0.5529412   0.4901961 ]\n",
            "  [ 0.56078434  0.56078434  0.5058824 ]\n",
            "  [ 0.5372549   0.5372549   0.48235297]]]\n"
          ]
        },
        {
          "output_type": "execute_result",
          "data": {
            "text/plain": [
              "<matplotlib.image.AxesImage at 0x7fac153105d0>"
            ]
          },
          "metadata": {},
          "execution_count": 64
        },
        {
          "output_type": "display_data",
          "data": {
            "image/png": "[encoded data removed]",
            "text/plain": [
              "<Figure size 432x288 with 1 Axes>"
            ]
          },
          "metadata": {
            "needs_background": "light"
          }
        }
      ]
    },
    {
      "cell_type": "code",
      "metadata": {
        "id": "9PQBrqNFpdb4"
      },
      "source": [
        "# x = np.array(df[\"path\"])\n",
        "# y = np.array(df[\"ans\"])"
      ],
      "execution_count": null,
      "outputs": []
    },
    {
      "cell_type": "code",
      "metadata": {
        "id": "2EDS-hdqs1xq"
      },
      "source": [
        "import tensorflow as tf\n",
        "import cv2\n",
        "from skimage import io\n",
        "import matplotlib.pyplot as plt\n",
        "import numpy as np\n",
        "\n",
        "import imgaug.augmenters as iaa\n",
        "import imgaug as ia"
      ],
      "execution_count": 75,
      "outputs": []
    },
    {
      "cell_type": "code",
      "metadata": {
        "id": "6Ffd3iiXqV25"
      },
      "source": [
        "class DataGenerator(tf.keras.utils.Sequence):\n",
        "    def __init__(self, img_paths, batch_size, img_size, shuffle=True, aug=False):\n",
        "        self.img_paths = img_paths\n",
        "        self.batch_size = batch_size\n",
        "        self.img_size = img_size\n",
        "        self.shuffle = shuffle\n",
        "        self.aug = aug\n",
        "\n",
        "        self.indexes = np.arange(len(self.img_paths)) # [0, 1, 2, 3, 4, 5]\n",
        "        self.on_epoch_end()\n",
        "\n",
        "    def __len__(self):\n",
        "        return int(np.ceil(len(self.img_paths) / self.batch_size)) # batches per epoch\n",
        "\n",
        "    def __getitem__(self, index):\n",
        "        # Generate indexes of the batch\n",
        "        idxs = self.indexes[index * self.batch_size:(index + 1) * self.batch_size]\n",
        "        # Find list of IDs\n",
        "        batch_img_paths = [self.img_paths[i] for i in idxs]\n",
        "\n",
        "        # Generates data containing batch_size samples\n",
        "        x = np.empty((len(batch_img_paths), self.img_size, self.img_size, 3), dtype=np.float32)\n",
        "        y = np.empty((len(batch_img_paths), 1), dtype=np.float32)\n",
        "        # y = np.array(df[\"ans\"])\n",
        "\n",
        "        for i, img_path in enumerate(batch_img_paths):\n",
        "            # read img\n",
        "            img = cv2.imread(img_path)\n",
        "            img = cv2.resize(img, (self.img_size, self.img_size))\n",
        "            img = img / 255.\n",
        "            # img = Image.open(img_path).resize((self.img_size, self.img_size)).convert(\"RGB\")\n",
        "            # img_np = np.array(img)\n",
        "            # img_np_pre = preprocess_input(img_np)\n",
        "\n",
        "            if self.aug:\n",
        "              seq = iaa.Sequential([\n",
        "                      iaa.Fliplr(0.5), # 50% horizontal flip\n",
        "                      iaa.Flipud(0), # 50% vertical flip\n",
        "                      iaa.Affine(\n",
        "                      rotate=(-45, 45), # random rotate -45 ~ +45 degree\n",
        "                      shear=(-16, 16), # random shear -16 ~ +16 degree\n",
        "                      scale={\"x\": (0.8, 1.2), \"y\": (0.8, 1.2)}, # scale x, y: 80%~120%,\n",
        "                      mode='constant', # ia.ALL, 'constant','edge', 'symmetric', 'reflect', 'wrap'\n",
        "                      cval=0,\n",
        "                        ),\n",
        "                      ])\n",
        "              img_aug = seq.augment_image(img)\n",
        "              img = img_aug # Augmentation\n",
        "\n",
        "            # read class label\n",
        "            cls = img_path.split('/')[-2]\n",
        "            if \"S2\" in cls:\n",
        "                cls = 0\n",
        "            if \"GP\" in cls:\n",
        "                cls = 1\n",
        "            if \"KRV\" in cls:\n",
        "                cls = 2\n",
        "            if \"FIDDLE\" in cls:\n",
        "                cls = 3\n",
        "            if \"SR\" in cls:\n",
        "                cls = 4\n",
        "            if \"活力\" in cls:\n",
        "                cls = 5\n",
        "            if \"新名流\" in cls:\n",
        "                cls = 6\n",
        "            if \"DRG\" in cls:\n",
        "                cls = 7\n",
        "            if \"新迪爵\" in cls:\n",
        "                cls = 8\n",
        "            if \"LIMI\" in cls:\n",
        "                cls = 9\n",
        "            if \"六代\" in cls:\n",
        "                cls = 10\n",
        "            \n",
        "            x[i] = img\n",
        "            y[i] = cls\n",
        "            \n",
        "        return x, y\n",
        "\n",
        "    def on_epoch_end(self):\n",
        "        # Updates indexes after each epoch\n",
        "        if self.shuffle:\n",
        "            np.random.shuffle(self.indexes)"
      ],
      "execution_count": 85,
      "outputs": []
    },
    {
      "cell_type": "code",
      "metadata": {
        "id": "VB4nLuLDtiKq",
        "outputId": "4f7af8ab-56a3-4d35-822c-5c7bef0e2c1f",
        "colab": {
          "base_uri": "https://localhost:8080/"
        }
      },
      "source": [
        "img_paths = s2 + gp + krv + fiddle + sr + vivo + famous + drg + duke + limi + gryphus6\n",
        "len(img_paths)"
      ],
      "execution_count": 77,
      "outputs": [
        {
          "output_type": "execute_result",
          "data": {
            "text/plain": [
              "4052"
            ]
          },
          "metadata": {},
          "execution_count": 77
        }
      ]
    },
    {
      "cell_type": "code",
      "metadata": {
        "id": "BQ27czaFvBww",
        "outputId": "6c9617b0-fbea-4947-a227-a728ec558e23",
        "colab": {
          "base_uri": "https://localhost:8080/"
        }
      },
      "source": [
        "from sklearn.model_selection import train_test_split\n",
        "train_img_paths, val_img_paths = train_test_split(img_paths, test_size=0.1)\n",
        "len(train_img_paths), len(val_img_paths)"
      ],
      "execution_count": 78,
      "outputs": [
        {
          "output_type": "execute_result",
          "data": {
            "text/plain": [
              "(3646, 406)"
            ]
          },
          "metadata": {},
          "execution_count": 78
        }
      ]
    },
    {
      "cell_type": "code",
      "metadata": {
        "id": "DPJv_EMKvW7h"
      },
      "source": [
        "train_gen = DataGenerator(train_img_paths, 32, 224, shuffle=True, aug=True)\n",
        "val_gen = DataGenerator(val_img_paths, 32, 224, shuffle=False, aug=False)"
      ],
      "execution_count": 79,
      "outputs": []
    },
    {
      "cell_type": "code",
      "metadata": {
        "id": "J8Uwjo0CwbZ5",
        "outputId": "794cee47-ec4e-4588-c269-76b6efbb341c",
        "colab": {
          "base_uri": "https://localhost:8080/"
        }
      },
      "source": [
        "train_gen.indexes"
      ],
      "execution_count": 80,
      "outputs": [
        {
          "output_type": "execute_result",
          "data": {
            "text/plain": [
              "array([2503,  749, 1519, ...,  643, 2308, 1350])"
            ]
          },
          "metadata": {},
          "execution_count": 80
        }
      ]
    },
    {
      "cell_type": "code",
      "metadata": {
        "id": "yv6RZQ8GwmfR",
        "outputId": "9226c0f3-4e62-4bb1-ba9f-be92f24e0292",
        "colab": {
          "base_uri": "https://localhost:8080/"
        }
      },
      "source": [
        "len(train_gen)"
      ],
      "execution_count": 81,
      "outputs": [
        {
          "output_type": "execute_result",
          "data": {
            "text/plain": [
              "114"
            ]
          },
          "metadata": {},
          "execution_count": 81
        }
      ]
    },
    {
      "cell_type": "code",
      "metadata": {
        "id": "dHTA9b-Z5dg0",
        "outputId": "6a06485d-d3f2-4121-fe7c-f1d0b8c842f2",
        "colab": {
          "base_uri": "https://localhost:8080/",
          "height": 293
        }
      },
      "source": [
        "imgs, labels = train_gen[2]"
      ],
      "execution_count": 86,
      "outputs": [
        {
          "output_type": "error",
          "ename": "TypeError",
          "evalue": "ignored",
          "traceback": [
            "\u001b[0;31m---------------------------------------------------------------------------\u001b[0m",
            "\u001b[0;31mTypeError\u001b[0m                                 Traceback (most recent call last)",
            "\u001b[0;32m<ipython-input-86-25be2b11df04>\u001b[0m in \u001b[0;36m<module>\u001b[0;34m()\u001b[0m\n\u001b[0;32m----> 1\u001b[0;31m \u001b[0mimgs\u001b[0m\u001b[0;34m,\u001b[0m \u001b[0mlabels\u001b[0m \u001b[0;34m=\u001b[0m \u001b[0mtrain_gen\u001b[0m\u001b[0;34m[\u001b[0m\u001b[0;36m2\u001b[0m\u001b[0;34m]\u001b[0m\u001b[0;34m\u001b[0m\u001b[0;34m\u001b[0m\u001b[0m\n\u001b[0m",
            "\u001b[0;32m<ipython-input-76-4d26a722e543>\u001b[0m in \u001b[0;36m__getitem__\u001b[0;34m(self, index)\u001b[0m\n\u001b[1;32m     54\u001b[0m             \u001b[0;32mif\u001b[0m \u001b[0;34m\"GP\"\u001b[0m \u001b[0;32min\u001b[0m \u001b[0mcls\u001b[0m\u001b[0;34m:\u001b[0m\u001b[0;34m\u001b[0m\u001b[0;34m\u001b[0m\u001b[0m\n\u001b[1;32m     55\u001b[0m                 \u001b[0mcls\u001b[0m \u001b[0;34m=\u001b[0m \u001b[0;36m1\u001b[0m\u001b[0;34m\u001b[0m\u001b[0;34m\u001b[0m\u001b[0m\n\u001b[0;32m---> 56\u001b[0;31m             \u001b[0;32mif\u001b[0m \u001b[0;34m\"KRV\"\u001b[0m \u001b[0;32min\u001b[0m \u001b[0mcls\u001b[0m\u001b[0;34m:\u001b[0m\u001b[0;34m\u001b[0m\u001b[0;34m\u001b[0m\u001b[0m\n\u001b[0m\u001b[1;32m     57\u001b[0m                 \u001b[0mcls\u001b[0m \u001b[0;34m=\u001b[0m \u001b[0;36m2\u001b[0m\u001b[0;34m\u001b[0m\u001b[0;34m\u001b[0m\u001b[0m\n\u001b[1;32m     58\u001b[0m             \u001b[0;32mif\u001b[0m \u001b[0;34m\"FIDDLE\"\u001b[0m \u001b[0;32min\u001b[0m \u001b[0mcls\u001b[0m\u001b[0;34m:\u001b[0m\u001b[0;34m\u001b[0m\u001b[0;34m\u001b[0m\u001b[0m\n",
            "\u001b[0;31mTypeError\u001b[0m: argument of type 'int' is not iterable"
          ]
        }
      ]
    },
    {
      "cell_type": "code",
      "metadata": {
        "id": "PvM5uL0SxCVT"
      },
      "source": [
        "imgs.shape, labels.shape\n",
        "print(labels)"
      ],
      "execution_count": null,
      "outputs": []
    },
    {
      "cell_type": "code",
      "metadata": {
        "id": "bX9Z95MTpg5P"
      },
      "source": [
        "# def data_generator(x, y, batch_size=20):\n",
        "#   while True:\n",
        "#     idx = np.random.randint(0, len(x), size=batch_size)\n",
        "#     x_batch, y_batch = x[idx], y[idx]\n",
        "#     x_final = []\n",
        "#     for path in x_batch:\n",
        "#       img = Image.open(path).resize((224, 224)).convert(\"RGB\")    #  開啟路徑圖檔並改大小、轉成RGB\n",
        "#       img_pre = preprocess_input(np.array(img))              # 轉成陣列再預處理\n",
        "#       x_final.append(img_pre)            \n",
        "#     x_final = np.array(x_final)\n",
        "#     y_batch = np.array(y_batch)\n",
        "#     yield (x_final, y_batch)\n",
        "# gen = data_generator(x, y)\n",
        "# x_gen, y_gen = gen.__next__()\n",
        "# # print(x_gen.shape)\n",
        "# # print(y_gen.shape)\n",
        "# print(x_gen)\n",
        "# # print(y_gen)\n"
      ],
      "execution_count": null,
      "outputs": []
    },
    {
      "cell_type": "code",
      "metadata": {
        "id": "6cYwHAY_qB1z"
      },
      "source": [
        "s2_x = x[y == 0]\n",
        "gp_x = x[y == 1]\n",
        "krv_x = x[y == 2]\n",
        "fiddle_x = x[y == 3]\n",
        "sr_x = x[y == 4]\n",
        "vivo_x = x[y == 5]\n",
        "famous_x = x[y == 6]\n",
        "drg_x = x[y == 7]\n",
        "duke_x = x[y == 8]\n",
        "limi_x = x[y == 9]\n",
        "gryphus6_x = x[y == 10]\n",
        "\n",
        "print(\"s2 共:\", len(s2_x))\n",
        "print(\"gp 共:\", len(gp_x))\n",
        "print(\"krv 共:\", len(krv_x))\n",
        "print(\"fiddle 共:\", len(fiddle_x))\n",
        "print(\"sr 共:\", len(sr_x))\n",
        "print(\"vivo 共:\", len(vivo_x))\n",
        "print(\"famous 共:\", len(famous_x))\n",
        "print(\"drg 共:\", len(drg_x))\n",
        "print(\"duke 共:\", len(duke_x))\n",
        "print(\"limi 共:\", len(limi_x))\n",
        "print(\"gryphus6 共:\", len(gryphus6_x))"
      ],
      "execution_count": null,
      "outputs": []
    },
    {
      "cell_type": "code",
      "metadata": {
        "id": "a27b4jEkqaH1"
      },
      "source": [
        "from sklearn.model_selection import train_test_split\n",
        "import numpy as np\n",
        "\n",
        " # \"path\": s2 + gp + krv + fiddle + sr + vivo + famous + drg + duke + limi + gryphus6,\n",
        "    # \"ans\": [0] * len(s2) + [1] * len(gp) + [2] * len(krv) + [3] * len(fiddle) + [4] * len(sr) + [5] * len(vivo) + [6] * len(famous)\n",
        "    # + [7] * len(drg) + [8] * len(duke) + [9] * len(limi) + [10] * len(gryphus6)\n",
        "scooters = [s2_x, gp_x, krv_x, fiddle_x, sr_x, vivo_x, famous_x, drg_x, duke_x, limi_x, gryphus6_x]\n",
        "scts_nums = []\n",
        "# [\"s2\", \"gp\", \"krv_x\", \"fiddle\", \"sr_x\", \"vivo\", \"famous\", \"drg\", \"duke\", \"limi\", \"gryphus6\"\n",
        "for i in scooters:\n",
        "  a = np.random.choice(i, 760, replace=False)\n",
        "  b, c = train_test_split(a, test_size=0.1)\n",
        "  num = (a, b, c)\n",
        "  scts_nums.append(num)\n",
        "# print(len(scts_nums[:][]))\n",
        "# S2_380 = np.random.choice(S2_x, 380, replace=False)\n",
        "# S2_342, S2_38 = train_test_split(S2_380, test_size=0.1)\n",
        "\n",
        "a = 684\n",
        "b = 76\n",
        "x_train = np.concatenate([x[1] for x in scts_nums])\n",
        "y_train = np.array([0] * a + [1]*a+[2]*a+[3]*a+[4]*a+[5]*a+[6]*a+[7]*a+[8]*a+[9]*a+[10]*a)\n",
        "\n",
        "x_test = np.concatenate([x[2] for x in scts_nums])\n",
        "y_test = np.array([0] * b + [1]*b+[2]*b+[3]*b+[4]*b+[5]*b+[6]*b+[7]*b+[8]*b+[9]*b+[10]*b)\n",
        "\n",
        "print(x_train.shape)\n",
        "print(x_test.shape)\n",
        "print(y_train.shape)\n",
        "print(y_test.shape)"
      ],
      "execution_count": null,
      "outputs": []
    },
    {
      "cell_type": "code",
      "metadata": {
        "id": "w_8bk7fRrKKq"
      },
      "source": [
        "train_generator = data_generator(x_train, y_train)\n",
        "test_generator = data_generator(x_test, y_test)"
      ],
      "execution_count": null,
      "outputs": []
    },
    {
      "cell_type": "code",
      "metadata": {
        "id": "L5yjyaIArPXJ"
      },
      "source": [
        "# 20 * 19 => 380訓練\n",
        "# 5 * 19 => 38測試\n",
        "from tensorflow.keras.callbacks import EarlyStopping, ModelCheckpoint\n",
        "callbacks = [\n",
        "             EarlyStopping(patience=10, restore_best_weights=True),\n",
        "             ModelCheckpoint(\"/content/1105.h5\", save_best_only=True)\n",
        "]\n",
        "\n",
        "model.fit(\n",
        "    train_generator,\n",
        "    steps_per_epoch=30,\n",
        "    epochs=300,\n",
        "    validation_data=test_generator,\n",
        "    validation_steps=2, \n",
        "    callbacks=callbacks\n",
        "                    )"
      ],
      "execution_count": null,
      "outputs": []
    },
    {
      "cell_type": "code",
      "metadata": {
        "id": "EehG7Ix8OcP7"
      },
      "source": [
        "ori_imgs = []\n",
        "for p in x_test:\n",
        "    img = Image.open(p).resize((224, 224)).convert(\"RGB\")\n",
        "    ori_imgs.append(np.array(img))\n",
        "ori_imgs = np.array(ori_imgs)\n",
        "preprocess_imgs = preprocess_input(ori_imgs)\n",
        "\n",
        "pre = model.predict(preprocess_imgs)\n",
        "\n"
      ],
      "execution_count": null,
      "outputs": []
    },
    {
      "cell_type": "code",
      "metadata": {
        "id": "UFkezseFPbVz"
      },
      "source": [
        "pre = pre.argmax(axis=1)"
      ],
      "execution_count": null,
      "outputs": []
    },
    {
      "cell_type": "code",
      "metadata": {
        "id": "yNuM7yV6Pb82"
      },
      "source": [
        "trans = [\"s2\", \"gp\", \"krv_x\", \"fiddle\", \"sr_x\", \"vivo\", \"famous\", \"drg\", \"duke\", \"limi\", \"gryphus6\"]\n",
        " # gp + vivo + gryphus6 + SR + DRG + FIDDLE + S2\n",
        "idx = np.nonzero(pre != y_test)[0]\n",
        "pre_false_img = ori_imgs[idx]\n",
        "pre_false_val = pre[idx]\n",
        "pre_false_ori = y_test[idx]\n",
        "\n",
        "plt.figure(figsize=(30, 30))\n",
        "width = 10\n",
        "height = len(idx) // width + 1\n",
        "for i in range(len(idx)):\n",
        "    plt.subplot(height, width, i+1)\n",
        "    t = \"[O]:{}\\n[P]:{}\".format(trans[pre_false_ori[i]],\n",
        "                                trans[pre_false_val[i]])\n",
        "    plt.title(t)\n",
        "    plt.axis(\"off\")\n",
        "    plt.imshow(pre_false_img[i])\n"
      ],
      "execution_count": null,
      "outputs": []
    },
    {
      "cell_type": "code",
      "metadata": {
        "id": "yQU1q_sjQ8xV"
      },
      "source": [
        "import pandas as pd\n",
        "from sklearn.metrics import confusion_matrix\n",
        "mat = confusion_matrix(y_test, pre)\n",
        "pd.DataFrame(\n",
        "        mat,\n",
        "        index=[\"{}(正確)\".format(trans[i]) for i in range(11)],\n",
        "        columns=[\"{}(預測)\".format(trans[i]) for i in range(11)]\n",
        ")"
      ],
      "execution_count": null,
      "outputs": []
    },
    {
      "cell_type": "code",
      "metadata": {
        "id": "xFpdeYNaclxh"
      },
      "source": [
        "model = load_model('/content/1105.h5')"
      ],
      "execution_count": null,
      "outputs": []
    },
    {
      "cell_type": "code",
      "metadata": {
        "id": "nkP_j5Z4RMga"
      },
      "source": [
        "import requests\n",
        "from tensorflow.keras.models import load_model\n",
        "url = input(\"Enter:\")\n",
        "response = requests.get(url, stream=True, verify=False)\n",
        "img = Image.open(response.raw).resize((224, 224)).convert(\"RGB\")\n",
        "img_np = preprocess_input(np.array(img).reshape(1, 224, 224, 3))\n",
        "# model = load_model('/content/1105.h5').\n",
        "proba = model.predict(img_np)\n",
        "ans = proba.argmax(axis=1)\n",
        "print(\"預測:\", trans[ans[0]])\n",
        "print(\"機率:\", proba[0])\n",
        "plt.imshow(img)\n",
        "# trans = [\"s2\", \"gp\", \"krv_x\", \"fiddle\", \"sr_x\", \"vivo\", \"famous\", \"drg\", \"duke\", \"limi\", \"gryphus6\"]"
      ],
      "execution_count": null,
      "outputs": []
    },
    {
      "cell_type": "code",
      "metadata": {
        "id": "jMCek4lPS7d-"
      },
      "source": [
        "import tensorflow as tf\n",
        "import tensorflow.keras.backend as K\n",
        "from tensorflow.keras.applications.mobilenet import MobileNet\n",
        "from tensorflow.keras.preprocessing import image\n",
        "from tensorflow.keras.applications.mobilenet import preprocess_input, decode_predictions\n",
        "import numpy as np\n",
        "import os\n",
        "import matplotlib.pyplot as plt\n",
        "import cv2\n",
        "from google.colab.patches import cv2_imshow\n",
        "from tensorflow.keras.models import load_model\n"
      ],
      "execution_count": null,
      "outputs": []
    },
    {
      "cell_type": "code",
      "metadata": {
        "id": "yqypLDK2TDOu"
      },
      "source": [
        "# clear graph\n",
        "K.clear_session()"
      ],
      "execution_count": null,
      "outputs": []
    },
    {
      "cell_type": "code",
      "metadata": {
        "id": "ZWuO8MR-TPUK"
      },
      "source": [
        "model = load_model(\"/content/1105.h5\")\n",
        "model.summary()"
      ],
      "execution_count": null,
      "outputs": []
    },
    {
      "cell_type": "code",
      "metadata": {
        "id": "3llgySdjTVgn"
      },
      "source": [
        "p = df[\"path\"]\n",
        "idx = np.random.randint(0, len(p), size=1)[0]  # 隨機取一張圖\n",
        "path = p[idx]\n",
        "\n",
        "img = image.load_img(path, target_size=(224,224))\n",
        "cv2_imshow(cv2.resize(cv2.imread(path), (224,224)))"
      ],
      "execution_count": null,
      "outputs": []
    },
    {
      "cell_type": "code",
      "metadata": {
        "id": "2SfLSgdXTZRL"
      },
      "source": [
        "x = image.img_to_array(img)\n",
        "x = np.expand_dims(x, axis=0)\n",
        "x = preprocess_input(x)\n",
        "trans = [\"s2\", \"gp\", \"krv_x\", \"fiddle\", \"sr_x\", \"vivo\", \"famous\", \"drg\", \"duke\", \"limi\", \"gryphus6\"]\n",
        "preds = model.predict(x)\n",
        "ans = preds.argmax(axis=1)\n",
        "print(\"預測:\", trans[ans[0]])\n",
        "print(\"機率:\", preds[0])"
      ],
      "execution_count": null,
      "outputs": []
    },
    {
      "cell_type": "code",
      "metadata": {
        "id": "LsoJ4WkYT8uT"
      },
      "source": [
        "with tf.GradientTape() as tape:\n",
        "  last_conv_layer = model.get_layer(\"conv_pw_13\")\n",
        "  iterate = tf.keras.models.Model([model.inputs], [model.output, last_conv_layer.output])\n",
        "  model_out, last_conv_layer = iterate(x)\n",
        "  class_out = model_out[:, np.argmax(model_out[0])]\n",
        "  grads = tape.gradient(class_out, last_conv_layer)\n",
        "  pooled_grads = K.mean(grads, axis=(0, 1, 2))\n",
        "\n",
        "heatmap = tf.reduce_mean(tf.multiply(pooled_grads, last_conv_layer), axis=-1) \n"
      ],
      "execution_count": null,
      "outputs": []
    },
    {
      "cell_type": "code",
      "metadata": {
        "id": "7my2hakLUDq3"
      },
      "source": [
        "heatmap = np.maximum(heatmap, 0)\n",
        "heatmap /= np.max(heatmap)\n",
        "heatmap = heatmap.reshape((7, 7))\n",
        "plt.matshow(heatmap)\n",
        "plt.show()"
      ],
      "execution_count": null,
      "outputs": []
    },
    {
      "cell_type": "code",
      "metadata": {
        "id": "58IlQ2RPXONm"
      },
      "source": [
        "img = cv2.imread(path)"
      ],
      "execution_count": null,
      "outputs": []
    },
    {
      "cell_type": "code",
      "metadata": {
        "id": "rmSnIWLXXQ7_"
      },
      "source": [
        "INTENSITY = 0.5\n",
        "\n",
        "heatmap = cv2.resize(heatmap, (img.shape[1], img.shape[0]))\n",
        "\n",
        "heatmap = cv2.applyColorMap(np.uint8(255*heatmap), cv2.COLORMAP_JET)\n",
        "\n",
        "img = heatmap * INTENSITY +img\n"
      ],
      "execution_count": null,
      "outputs": []
    },
    {
      "cell_type": "code",
      "metadata": {
        "id": "Y4AqZNUfXX30"
      },
      "source": [
        "cv2_imshow(cv2.resize(cv2.imread(path), (224,224)))\n",
        "img = cv2.resize(img, (224,224))\n",
        "cv2_imshow(img)"
      ],
      "execution_count": null,
      "outputs": []
    }
  ]
}